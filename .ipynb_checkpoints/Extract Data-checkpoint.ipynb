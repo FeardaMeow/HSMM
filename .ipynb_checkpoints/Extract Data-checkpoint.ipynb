{
 "cells": [
  {
   "cell_type": "code",
   "execution_count": 63,
   "metadata": {},
   "outputs": [],
   "source": [
    "import numpy as np\n",
    "import pandas as pd\n",
    "import os\n",
    "import glob\n",
    "import datetime as dt\n",
    "from undaqTools import Daq, stat\n",
    "from matplotlib import pyplot as plt"
   ]
  },
  {
   "cell_type": "markdown",
   "metadata": {},
   "source": [
    "# Load DAQ"
   ]
  },
  {
   "cell_type": "code",
   "execution_count": 114,
   "metadata": {},
   "outputs": [],
   "source": [
    "daq = Daq()\n",
    "daq.read('data/PID03/SH_PHD_MainRun_20200127113138.daq')"
   ]
  },
  {
   "cell_type": "code",
   "execution_count": 64,
   "metadata": {},
   "outputs": [
    {
     "name": "stdout",
     "output_type": "stream",
     "text": [
      "2020-01-24 11:05:51:530000\n"
     ]
    }
   ],
   "source": [
    "#Year-Month-Day Hour(24):Minute:Second:Microsecond (1:1000000)\n",
    "print(dt.datetime.fromtimestamp(os.path.getctime('data/PID01/SH_PHD_MainRun_20200124110551.daq')).strftime('%Y-%m-%d %H:%M:%S:%f'))"
   ]
  },
  {
   "cell_type": "code",
   "execution_count": 40,
   "metadata": {
    "scrolled": true
   },
   "outputs": [
    {
     "data": {
      "text/plain": [
       "'SH_PHD_MainRun_20200124110551'"
      ]
     },
     "execution_count": 40,
     "metadata": {},
     "output_type": "execute_result"
    }
   ],
   "source": [
    "#daq.keys()\n",
    "fname = ''.join(i[0] for i in np.array(daq['Run']))\n",
    "fname = fname + '_'\n",
    "fname2 = ''.join(i[0] for i in np.array(daq['RunInst']))\n",
    "fname = fname + fname2\n",
    "fname"
   ]
  },
  {
   "cell_type": "markdown",
   "metadata": {},
   "source": [
    "# Extract Timestamps"
   ]
  },
  {
   "cell_type": "code",
   "execution_count": 4,
   "metadata": {},
   "outputs": [],
   "source": [
    "def get_timestamps(directory, save_location, file_name, **kwargs):\n",
    "    '''\n",
    "    Input:\n",
    "        directory:\n",
    "        save_location:\n",
    "        file_name:\n",
    "        **kwargs:\n",
    "    Output:\n",
    "    \n",
    "    '''\n",
    "    pid_list = []\n",
    "    ts_list = []\n",
    "    fname_list = []\n",
    "\n",
    "    for dirpath, dirnames, files in os.walk(directory):\n",
    "        for f in files:\n",
    "            if f.endswith('.daq'):\n",
    "                pid = dirpath.split('\\\\')[-1]\n",
    "                timestamp = dt.datetime.fromtimestamp(os.path.getctime(os.path.join(dirpath,f))).strftime('%Y-%m-%d %H:%M:%S.%f')\n",
    "                \n",
    "                fname_list.append(f)\n",
    "                ts_list.append(timestamp)\n",
    "                pid_list.append(pid)\n",
    "                \n",
    "    data = {'PID':pid_list, 'file_name':fname_list, 'timestamp':ts_list}\n",
    "    data = pd.DataFrame.from_dict(data)\n",
    "    data.to_csv(os.path.join(save_location, file_name), **kwargs)\n",
    "    \n",
    "get_timestamps('data','data','PID_timestamp.csv', index=False)"
   ]
  },
  {
   "cell_type": "code",
   "execution_count": 41,
   "metadata": {},
   "outputs": [],
   "source": [
    "df_timestamp = pd.read_csv('data/PID_timestamp.csv')"
   ]
  },
  {
   "cell_type": "code",
   "execution_count": 55,
   "metadata": {},
   "outputs": [
    {
     "data": {
      "text/plain": [
       "array([16, 16, 15, ..., 15, 16, 16])"
      ]
     },
     "execution_count": 55,
     "metadata": {},
     "output_type": "execute_result"
    }
   ],
   "source": [
    "np.diff(np.array(daq['SCC_Graphics_Wall_Clock_Time']), n=1)[0,:]"
   ]
  },
  {
   "cell_type": "markdown",
   "metadata": {},
   "source": [
    "# DAQ to data frame"
   ]
  },
  {
   "cell_type": "code",
   "execution_count": 85,
   "metadata": {},
   "outputs": [],
   "source": [
    "def daq_to_df(daq, elemlist, timestamps):\n",
    "    elapsed_time = 'SCC_Graphics_Wall_Clock_Time'\n",
    "    \n",
    "    # Create datetime list\n",
    "    file_name = ''.join(i[0] for i in np.array(daq['Run']))\n",
    "    file_name2 = ''.join(i[0] for i in np.array(daq['RunInst']))\n",
    "    file_name = file_name + '_' + file_name2 + '.daq'\n",
    "    \n",
    "    base_timestamp = dt.datetime.strptime(timestamps.loc[timestamps['file_name'] == file_name]['timestamp'].values[0], '%Y-%m-%d %H:%M:%S.%f')\n",
    "    ms_diff = np.cumsum(np.diff(np.array(daq[elapsed_time]), n=1)[0,:])\n",
    "    date_range = [base_timestamp + dt.timedelta(milliseconds=i) for i in ms_diff]\n",
    "    date_range.insert(0,base_timestamp)\n",
    "    \n",
    "    # Find start frame and end frame as these are not 1-indexed\n",
    "    start_frame = daq[elapsed_time].frames[0]\n",
    "    end_frame = daq[elapsed_time].frames[-1]\n",
    "    \n",
    "    # Check to see if 'SCC_Grapihcs_Wall_Clock_Time' is in the elemlist, if so remove as this will always be added as elapsed time\n",
    "    if elapsed_time in elemlist:\n",
    "        elemlist.remove(elapsed_time)\n",
    "    \n",
    "    # Add elapsed time as first column of data list\n",
    "    data_list = [np.array(daq[elapsed_time]).T - np.array(daq[elapsed_time])[0,0]]\n",
    "    col_list = ['elapsed_time']\n",
    "    \n",
    "    for elem in elemlist:\n",
    "        if daq[elem].isCSSDC():\n",
    "            frames = daq[elem].frames - start_frame + 1 # make frames start at 1\n",
    "            frames = np.concatenate((frames,[end_frame-start_frame+2]))\n",
    "            frames = np.diff(frames, n=1)\n",
    "            \n",
    "            new_elem = np.repeat(np.array(daq[elem]).T, frames, axis=0)\n",
    "            \n",
    "            data_list.append(new_elem)\n",
    "            \n",
    "            for i in range(new_elem.shape[1]):\n",
    "                col_list.append(elem + '_' + str(i))\n",
    "        else:\n",
    "            new_elem = np.array(daq[elem]).T\n",
    "            \n",
    "            data_list.append(new_elem)\n",
    "            \n",
    "            for i in range(new_elem.shape[1]):\n",
    "                col_list.append(elem + '_' + str(i))\n",
    "                \n",
    "    data = np.concatenate(data_list, axis=1)\n",
    "\n",
    "    df = pd.DataFrame(data=data, columns=col_list, index=date_range)\n",
    "    return df"
   ]
  },
  {
   "cell_type": "code",
   "execution_count": 115,
   "metadata": {},
   "outputs": [],
   "source": [
    "elemlist = ['SCC_LogStreams', 'CFS_Accelerator_Pedal_Position', 'CFS_Brake_Pedal_Force', 'CFS_Steering_Wheel_Angle_Rate','SCC_Graphics_Wall_Clock_Time']\n",
    "# Thresholds from scenario: \n",
    "df = daq_to_df(daq, elemlist, df_timestamp)"
   ]
  },
  {
   "cell_type": "code",
   "execution_count": 104,
   "metadata": {},
   "outputs": [
    {
     "data": {
      "text/plain": [
       "DatetimeIndex(['2020-01-24 11:05:51.530000', '2020-01-24 11:05:51.546000',\n",
       "               '2020-01-24 11:05:51.562000', '2020-01-24 11:05:51.577000',\n",
       "               '2020-01-24 11:05:51.593000', '2020-01-24 11:05:51.609000',\n",
       "               '2020-01-24 11:05:51.624000', '2020-01-24 11:05:51.640000',\n",
       "               '2020-01-24 11:05:51.655000', '2020-01-24 11:05:51.671000'],\n",
       "              dtype='datetime64[ns]', freq=None)"
      ]
     },
     "execution_count": 104,
     "metadata": {},
     "output_type": "execute_result"
    }
   ],
   "source": [
    "df.index[0:10]"
   ]
  },
  {
   "cell_type": "markdown",
   "metadata": {},
   "source": [
    "# Extract Take-Over-Times"
   ]
  },
  {
   "cell_type": "code",
   "execution_count": 111,
   "metadata": {},
   "outputs": [],
   "source": [
    "def extract_tot(df, action_map):\n",
    "    '''\n",
    "    Input:\n",
    "        df: numpy array with Tx6. \n",
    "            First column is markers for failure time, \n",
    "            second column is markers for driver response time, and the\n",
    "            third column as the elapsed time in ms\n",
    "            4,5,6 are the accel, brake, and steer data\n",
    "        action_map: a dictionary of the action:threshold value\n",
    "    Output:\n",
    "        returns a tuple (a list of tot times, a list of tuples of the start and end time of the tot, list of tuples the order of responses)\n",
    "    '''\n",
    "    tot_times = []\n",
    "    actions = ['accel', 'brake', 'steer']\n",
    "    driver_response = []\n",
    "    ts_list = []\n",
    "    \n",
    "    df_numpy = df.values\n",
    "    \n",
    "    num_tot = int(np.max(df_numpy[:,0]))\n",
    "    \n",
    "    for i in range(num_tot):\n",
    "        start_time = int(np.argwhere(df_numpy[:,0] == i+1)[0])        \n",
    "        \n",
    "        action_temp = []\n",
    "        \n",
    "        # Calculate first action\n",
    "        for i, j in zip(actions, range(3,6)):\n",
    "            try:\n",
    "                action_temp.append(int(np.argwhere(df_numpy[start_time:start_time+600, j] > action_map[i])[0]))\n",
    "            except:\n",
    "                action_temp.append(9999)\n",
    "        \n",
    "        # Calculate end time\n",
    "        \n",
    "        # Create tuple of start time and end time for time sync later\n",
    "        end_time = np.min(action_temp)\n",
    "        driver_response.append([actions[i] for i in np.argsort(action_temp) if action_temp[i] < 9999])\n",
    "        tot_times.append((df_numpy[start_time+end_time,2] - df_numpy[start_time,2])/1000)\n",
    "        ts_list.append((df.index[start_time],df.index[start_time+end_time]))\n",
    "        \n",
    "        \n",
    "    return tot_times, ts_list, driver_response"
   ]
  },
  {
   "cell_type": "code",
   "execution_count": 116,
   "metadata": {},
   "outputs": [
    {
     "data": {
      "text/plain": [
       "([1.781,\n",
       "  1.281,\n",
       "  0.985,\n",
       "  1.094,\n",
       "  1.203,\n",
       "  0.0,\n",
       "  1.281,\n",
       "  0.86,\n",
       "  1.172,\n",
       "  1.156,\n",
       "  0.828,\n",
       "  0.984],\n",
       " [(Timestamp('2020-01-27 11:33:57.407000'),\n",
       "   Timestamp('2020-01-27 11:33:59.188000')),\n",
       "  (Timestamp('2020-01-27 11:35:42.407000'),\n",
       "   Timestamp('2020-01-27 11:35:43.688000')),\n",
       "  (Timestamp('2020-01-27 11:37:27.407000'),\n",
       "   Timestamp('2020-01-27 11:37:28.392000')),\n",
       "  (Timestamp('2020-01-27 11:39:12.407000'),\n",
       "   Timestamp('2020-01-27 11:39:13.501000')),\n",
       "  (Timestamp('2020-01-27 11:40:57.407000'),\n",
       "   Timestamp('2020-01-27 11:40:58.610000')),\n",
       "  (Timestamp('2020-01-27 11:42:42.407000'),\n",
       "   Timestamp('2020-01-27 11:42:42.407000')),\n",
       "  (Timestamp('2020-01-27 11:44:27.407000'),\n",
       "   Timestamp('2020-01-27 11:44:28.688000')),\n",
       "  (Timestamp('2020-01-27 11:46:12.407000'),\n",
       "   Timestamp('2020-01-27 11:46:13.267000')),\n",
       "  (Timestamp('2020-01-27 11:47:57.407000'),\n",
       "   Timestamp('2020-01-27 11:47:58.579000')),\n",
       "  (Timestamp('2020-01-27 11:49:42.407000'),\n",
       "   Timestamp('2020-01-27 11:49:43.563000')),\n",
       "  (Timestamp('2020-01-27 11:53:12.423000'),\n",
       "   Timestamp('2020-01-27 11:53:13.251000')),\n",
       "  (Timestamp('2020-01-27 11:54:57.423000'),\n",
       "   Timestamp('2020-01-27 11:54:58.407000'))],\n",
       " [['steer', 'accel', 'brake'],\n",
       "  ['steer', 'accel'],\n",
       "  ['steer', 'accel', 'brake'],\n",
       "  ['steer', 'accel'],\n",
       "  ['steer', 'brake', 'accel'],\n",
       "  ['steer', 'accel'],\n",
       "  ['steer', 'accel'],\n",
       "  ['steer', 'accel'],\n",
       "  ['steer', 'accel'],\n",
       "  ['steer', 'brake', 'accel'],\n",
       "  ['steer', 'accel'],\n",
       "  ['steer', 'brake', 'accel']])"
      ]
     },
     "execution_count": 116,
     "metadata": {},
     "output_type": "execute_result"
    }
   ],
   "source": [
    "extract_tot(df[['SCC_LogStreams_1', 'SCC_LogStreams_2','elapsed_time', 'CFS_Accelerator_Pedal_Position_0', 'CFS_Brake_Pedal_Force_0', 'CFS_Steering_Wheel_Angle_Rate_0']], action_map = {'accel':.05, 'brake':5, 'steer':1})"
   ]
  },
  {
   "cell_type": "code",
   "execution_count": 60,
   "metadata": {},
   "outputs": [],
   "source": [
    "# Extract all TOT from daq files in the data folder\n",
    "# Change your directory to the directory where the data is being stored\n",
    "# os.chdir(\"/mydir\")\n",
    "elemlist = ['SCC_LogStreams', 'CFS_Accelerator_Pedal_Position', 'CFS_Brake_Pedal_Force', 'CFS_Steering_Wheel_Angle_Rate','SCC_Graphics_Wall_Clock_Time']\n",
    "\n",
    "tot_list = []\n",
    "action_list = []\n",
    "\n",
    "for fname in glob.glob('data\\*\\*.daq'):\n",
    "    daq = Daq()\n",
    "    daq.read(fname)\n",
    "    \n",
    "    df = daq_to_csv(daq, elemlist)\n",
    "    tots, ts_list, actions = extract_tot(df[['SCC_LogStreams_1', 'SCC_LogStreams_2','elapsed_time', 'CFS_Accelerator_Pedal_Position_0', 'CFS_Brake_Pedal_Force_0', 'CFS_Steering_Wheel_Angle_Rate_0']], action_map = {'accel':.05, 'brake':5, 'steer':10})\n",
    "    tot_list.append(tots)\n",
    "    action_list.append(actions)\n"
   ]
  },
  {
   "cell_type": "code",
   "execution_count": 61,
   "metadata": {},
   "outputs": [
    {
     "data": {
      "image/png": "[encoded data removed]",
      "text/plain": [
       "<Figure size 432x288 with 1 Axes>"
      ]
     },
     "metadata": {
      "needs_background": "light"
     },
     "output_type": "display_data"
    }
   ],
   "source": [
    "fig1, ax1 = plt.subplots()\n",
    "ax1.set_title('ToT boxplot')\n",
    "ax1.boxplot(tot_list)\n",
    "plt.show()"
   ]
  },
  {
   "cell_type": "code",
   "execution_count": 62,
   "metadata": {},
   "outputs": [
    {
     "name": "stdout",
     "output_type": "stream",
     "text": [
      "[['steer', 'steer', 'accel', 'accel', 'steer', 'accel', 'accel', 'accel', 'accel', 'steer', 'steer', 'accel'], ['accel', 'accel', 'accel', 'accel', 'accel', 'accel', 'accel', 'accel', 'accel', 'accel', 'accel', 'accel'], ['accel', 'steer', 'steer', 'steer', 'steer', 'steer', 'steer', 'steer', 'steer', 'steer', 'steer', 'steer'], ['steer', 'steer', 'steer', 'steer', 'steer', 'steer', 'steer', 'steer', 'steer', 'steer', 'steer', 'steer'], ['accel', 'accel', 'accel', 'accel', 'accel', 'steer', 'accel', 'steer', 'accel', 'steer', 'steer', 'accel']]\n"
     ]
    }
   ],
   "source": [
    "print(action_list)"
   ]
  },
  {
   "cell_type": "code",
   "execution_count": 113,
   "metadata": {},
   "outputs": [
    {
     "data": {
      "text/plain": [
       "<matplotlib.axes._subplots.AxesSubplot at 0xbe83148>"
      ]
     },
     "execution_count": 113,
     "metadata": {},
     "output_type": "execute_result"
    },
    {
     "data": {
      "image/png": "[encoded data removed]",
      "text/plain": [
       "<Figure size 432x288 with 1 Axes>"
      ]
     },
     "metadata": {
      "needs_background": "light"
     },
     "output_type": "display_data"
    }
   ],
   "source": [
    "df['CFS_Brake_Pedal_Force_0'].plot()"
   ]
  },
  {
   "cell_type": "code",
   "execution_count": null,
   "metadata": {},
   "outputs": [],
   "source": []
  }
 ],
 "metadata": {
  "kernelspec": {
   "display_name": "Python 2",
   "language": "python",
   "name": "python2"
  },
  "language_info": {
   "codemirror_mode": {
    "name": "ipython",
    "version": 2
   },
   "file_extension": ".py",
   "mimetype": "text/x-python",
   "name": "python",
   "nbconvert_exporter": "python",
   "pygments_lexer": "ipython2",
   "version": "2.7.17"
  }
 },
 "nbformat": 4,
 "nbformat_minor": 2
}
