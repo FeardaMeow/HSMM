{
 "cells": [
  {
   "cell_type": "code",
   "execution_count": 1,
   "metadata": {},
   "outputs": [],
   "source": [
    "# Load packages\n",
    "import HSMM_LtR as hsmm\n",
    "from training import hsmm_model\n",
    "\n",
    "import seaborn as sns\n",
    "from matplotlib import pyplot as plt\n",
    "from matplotlib.backends.backend_pdf import PdfPages\n",
    "\n",
    "from scipy.stats import norm\n",
    "import numpy as np\n",
    "import pickle as pk\n",
    "import random\n",
    "from sklearn.model_selection import train_test_split\n",
    "\n",
    "from operator import methodcaller\n",
    "from tqdm.notebook import tqdm\n",
    "import pandas as pd\n",
    "\n",
    "import os"
   ]
  },
  {
   "cell_type": "code",
   "execution_count": 2,
   "metadata": {},
   "outputs": [],
   "source": [
    "### Load 0 data ###\n",
    "with open('X_train_rate_0.pk', 'rb') as f:\n",
    "    X_train_0 = pk.load(f)\n",
    "\n",
    "with open('y_train_rate_0.pk', 'rb') as f:\n",
    "    y_train_0 = pk.load(f)\n",
    "    \n",
    "with open('stratify_train_rate_0.pk', 'rb') as f:\n",
    "    stratify_train_0 = pk.load(f)\n",
    "\n",
    "with open('X_test_rate_0.pk', 'rb') as f:\n",
    "    X_test_0 = pk.load(f)\n",
    "\n",
    "with open('y_test_rate_0.pk', 'rb') as f:\n",
    "    y_test_0 = pk.load(f)\n",
    "    \n",
    "with open('stratify_test_rate_0.pk', 'rb') as f:\n",
    "    stratify_test_0 = pk.load(f)\n",
    "\n",
    "### Load 1 data ###\n",
    "with open('X_train_rate_1.pk', 'rb') as f:\n",
    "    X_train_1 = pk.load(f)\n",
    "\n",
    "with open('y_train_rate_1.pk', 'rb') as f:\n",
    "    y_train_1 = pk.load(f)\n",
    "    \n",
    "with open('stratify_train_rate_1.pk', 'rb') as f:\n",
    "    stratify_train_1 = pk.load(f)\n",
    "\n",
    "with open('X_test_rate_1.pk', 'rb') as f:\n",
    "    X_test_1 = pk.load(f)\n",
    "\n",
    "with open('y_test_rate_1.pk', 'rb') as f:\n",
    "    y_test_1 = pk.load(f)\n",
    "    \n",
    "with open('stratify_test_rate_1.pk', 'rb') as f:\n",
    "    stratify_test_1 = pk.load(f)"
   ]
  },
  {
   "cell_type": "code",
   "execution_count": 3,
   "metadata": {},
   "outputs": [],
   "source": [
    "### Indices split ### \n",
    "def split_indices(x_length, num_splits = 10):\n",
    "    chunk_size = int(x_length/num_splits)\n",
    "    \n",
    "    indices = [1]\n",
    "    \n",
    "    for i in range(num_splits):\n",
    "        if i < (num_splits -1):\n",
    "            indices.append(chunk_size*(i+1))\n",
    "    indices.append(x_length)\n",
    "    \n",
    "    return indices"
   ]
  },
  {
   "cell_type": "code",
   "execution_count": 4,
   "metadata": {},
   "outputs": [],
   "source": [
    "### Load Trained Models ###\n",
    "model_list_0 = []\n",
    "model_fnames_0 = ['model_train_N3_nc_0.pk','model_train_N5_nc_0.pk',\n",
    "               'model_train_N7_nc_0.pk','model_train_N9_nc_0.pk']\n",
    "\n",
    "for model_name in model_fnames_0:\n",
    "    with open(model_name, 'rb') as f:\n",
    "        model = pk.load(f)\n",
    "        model_list_0.append(model)\n",
    "        \n",
    "model_list_1 = []\n",
    "model_fnames_1 = ['model_train_N3_nc_1.pk','model_train_N5_nc_1.pk',\n",
    "               'model_train_N7_nc_1.pk','model_train_N9_nc_1.pk','model_train_N13_nc_1.pk']\n",
    "\n",
    "for model_name in model_fnames_1:\n",
    "    with open(model_name, 'rb') as f:\n",
    "        model = pk.load(f)\n",
    "        model_list_1.append(model)"
   ]
  },
  {
   "cell_type": "code",
   "execution_count": 5,
   "metadata": {},
   "outputs": [],
   "source": [
    "def create_pred_df(model, x, y, stratify):\n",
    "    pbar = tqdm()\n",
    "    pbar.reset(total=len(x))  \n",
    "    \n",
    "    df = []\n",
    "    column_names = ['PID','ts_num','gap','prediction','lower','upper','target','x']\n",
    "    counter = {}\n",
    "    \n",
    "    for x_i, y_i, s_i in zip(x,y,stratify):\n",
    "        # Get PID and gap\n",
    "        pid = s_i.split('_')\n",
    "        gap = pid[1]\n",
    "        pid = pid[0]\n",
    "        \n",
    "        if pid in counter:\n",
    "            counter[pid] += 1\n",
    "        else:\n",
    "            counter[pid] = 1\n",
    "        \n",
    "        # Generate indices\n",
    "        end = x_i.shape[0] - 39\n",
    "        \n",
    "        indices = split_indices(end)\n",
    "        for i in indices:\n",
    "            mid, lower, upper, target = model.predict(x_i[:i+1], y=y_i)\n",
    "            mid= np.clip(mid,0,None)\n",
    "            lower=np.clip(lower,0,None)\n",
    "            upper=np.clip(upper,0,None)\n",
    "            target=np.clip(target,0,None)\n",
    "            \n",
    "            row = [pid, counter[pid], gap, mid, lower, upper, target, x_i[i]]\n",
    "            \n",
    "            df.append(row)\n",
    "        \n",
    "        pbar.update()\n",
    "\n",
    "    return pd.DataFrame(df, columns=column_names)"
   ]
  },
  {
   "cell_type": "code",
   "execution_count": 122,
   "metadata": {},
   "outputs": [],
   "source": [
    "'''\n",
    "x_train_0_new = []\n",
    "y_train_0_new = []\n",
    "stratify_train_0_new = []\n",
    "\n",
    "x_train_1_new = []\n",
    "y_train_1_new = []\n",
    "stratify_train_1_new = []\n",
    "\n",
    "x_test_0_new = []\n",
    "y_test_0_new = []\n",
    "stratify_test_0_new = []\n",
    "\n",
    "x_test_1_new = []\n",
    "y_test_1_new = []\n",
    "stratify_test_1_new = []\n",
    "\n",
    "## TODO: Move data from 1 to 0 and 0 to 1 depending on if head moves before or after TOT\n",
    "for i,x_i in enumerate(X_train_0):\n",
    "    if (np.sum(x_i[:-39] >= .35) >= 2):\n",
    "        x_train_1_new.append(x_i)\n",
    "        y_train_1_new.append(y_train_0[i])\n",
    "        stratify_train_1_new.append(stratify_train_0[i])\n",
    "    else:\n",
    "        x_train_0_new.append(x_i)\n",
    "        y_train_0_new.append(y_train_0[i])\n",
    "        stratify_train_0_new.append(stratify_train_0[i])\n",
    "    \n",
    "for i,x_i in enumerate(X_train_1):\n",
    "    if (np.sum(x_i[:-39] <= .3)/x_i[:-40].shape[0]) >= 0.99:\n",
    "        x_train_0_new.append(x_i)\n",
    "        y_train_0_new.append(y_train_1[i])\n",
    "        stratify_train_0_new.append(stratify_train_1[i])\n",
    "    else:\n",
    "        x_train_1_new.append(x_i)\n",
    "        y_train_1_new.append(y_train_1[i])\n",
    "        stratify_train_1_new.append(stratify_train_1[i])\n",
    "\n",
    "for i,x_i in enumerate(X_test_0):\n",
    "    if (np.sum(x_i[:-39] >= .35) >= 2):\n",
    "        x_test_1_new.append(x_i)\n",
    "        y_test_1_new.append(y_test_0[i])\n",
    "        stratify_test_1_new.append(stratify_test_0[i])\n",
    "    else:\n",
    "        x_test_0_new.append(x_i)\n",
    "        y_test_0_new.append(y_test_0[i])\n",
    "        stratify_test_0_new.append(stratify_test_0[i])\n",
    "\n",
    "for i,x_i in enumerate(X_test_1):\n",
    "    if (np.sum(x_i[:-39] <= .3)/x_i[:-40].shape[0]) >= 0.99:\n",
    "        x_test_0_new.append(x_i)\n",
    "        y_test_0_new.append(y_test_1[i])\n",
    "        stratify_test_0_new.append(stratify_test_1[i])\n",
    "    else:\n",
    "        x_test_1_new.append(x_i)\n",
    "        y_test_1_new.append(y_test_1[i])\n",
    "        stratify_test_1_new.append(stratify_test_1[i])\n",
    "\n",
    "\n",
    "## TODO: Move data from 1 to 0 and 0 to 1 depending on if head moves before or after TOT\n",
    "\n",
    "pdf = PdfPages(\"train_output_0.pdf\")\n",
    "\n",
    "for i,x_i in enumerate(x_train_0_new):\n",
    "    fig = plt.figure()\n",
    "    ax = sns.lineplot(x=np.arange(x_i[:-40].shape[0]), y=x_i[:-40], sort=False, markers=True, dashes=False)\n",
    "    ax.set_ylim(bottom=0, top=1)\n",
    "    ax.set_title(str(i))\n",
    "    pdf.savefig( fig )\n",
    "    plt.close()\n",
    "\n",
    "pdf.close()        \n",
    "\n",
    "pdf = PdfPages(\"train_output_1.pdf\")\n",
    "\n",
    "for i,x_i in enumerate(x_train_1_new):\n",
    "    fig = plt.figure()\n",
    "    ax = sns.lineplot(x=np.arange(x_i[:-40].shape[0]), y=x_i[:-40], sort=False, markers=True, dashes=False)\n",
    "    ax.set_ylim(bottom=0, top=1)\n",
    "    ax.set_title(str(i))\n",
    "    pdf.savefig( fig )\n",
    "    plt.close()\n",
    "\n",
    "pdf.close() \n",
    "        \n",
    "pdf = PdfPages(\"test_output_0.pdf\")\n",
    "\n",
    "for i,x_i in enumerate(x_test_0_new):\n",
    "    fig = plt.figure()\n",
    "    ax = sns.lineplot(x=np.arange(x_i[:-40].shape[0]), y=x_i[:-40], sort=False, markers=True, dashes=False)\n",
    "    ax.set_ylim(bottom=0, top=1)\n",
    "    ax.set_title(str(i))\n",
    "    pdf.savefig( fig )\n",
    "    plt.close()\n",
    "\n",
    "pdf.close()\n",
    "\n",
    "pdf = PdfPages(\"test_output_1.pdf\")\n",
    "\n",
    "for i,x_i in enumerate(x_test_1_new):\n",
    "    fig = plt.figure()\n",
    "    ax = sns.lineplot(x=np.arange(x_i[:-40].shape[0]), y=x_i[:-40], sort=False, markers=True, dashes=False)\n",
    "    ax.set_ylim(bottom=0, top=1)\n",
    "    ax.set_title(str(i))\n",
    "    pdf.savefig( fig )\n",
    "    plt.close()\n",
    "    \n",
    "pdf.close()\n",
    "\n",
    "### Load 0 data ###\n",
    "with open('X_train_rate_0.pk', 'wb') as f:\n",
    "    pk.dump(x_train_0_new,f)\n",
    "\n",
    "with open('y_train_rate_0.pk', 'wb') as f:\n",
    "    pk.dump(y_train_0_new,f)\n",
    "    \n",
    "with open('stratify_train_rate_0.pk', 'wb') as f:\n",
    "    pk.dump(stratify_train_0_new,f)\n",
    "\n",
    "with open('X_test_rate_0.pk', 'wb') as f:\n",
    "    pk.dump(x_test_0_new,f)\n",
    "\n",
    "with open('y_test_rate_0.pk', 'wb') as f:\n",
    "    pk.dump(y_test_0_new,f)\n",
    "    \n",
    "with open('stratify_test_rate_0.pk', 'wb') as f:\n",
    "    pk.dump(stratify_test_0_new,f)\n",
    "\n",
    "### Load 1 data ###\n",
    "with open('X_train_rate_1.pk', 'wb') as f:\n",
    "    pk.dump(x_train_1_new, f)\n",
    "\n",
    "with open('y_train_rate_1.pk', 'wb') as f:\n",
    "    pk.dump(y_train_1_new, f)\n",
    "    \n",
    "with open('stratify_train_rate_1.pk', 'wb') as f:\n",
    "    pk.dump(stratify_train_1_new, f)\n",
    "\n",
    "with open('X_test_rate_1.pk', 'wb') as f:\n",
    "    pk.dump(x_test_1_new, f)\n",
    "\n",
    "with open('y_test_rate_1.pk', 'wb') as f:\n",
    "    pk.dump(y_test_1_new, f)\n",
    "    \n",
    "with open('stratify_test_rate_1.pk', 'wb') as f:\n",
    "    pk.dump(stratify_test_1_new, f)\n",
    "'''"
   ]
  },
  {
   "cell_type": "markdown",
   "metadata": {},
   "source": [
    "# Plotting Training Loss"
   ]
  },
  {
   "cell_type": "code",
   "execution_count": 136,
   "metadata": {},
   "outputs": [
    {
     "data": {
      "application/vnd.jupyter.widget-view+json": {
       "model_id": "ac3d189b389e4e4a981d699580eed38d",
       "version_major": 2,
       "version_minor": 0
      },
      "text/plain": [
       "HBox(children=(IntProgress(value=1, bar_style='info', max=1), HTML(value='')))"
      ]
     },
     "metadata": {},
     "output_type": "display_data"
    },
    {
     "data": {
      "application/vnd.jupyter.widget-view+json": {
       "model_id": "61b1ab9cf2934d1abdd35f08e1b0a2ee",
       "version_major": 2,
       "version_minor": 0
      },
      "text/plain": [
       "HBox(children=(IntProgress(value=1, bar_style='info', max=1), HTML(value='')))"
      ]
     },
     "metadata": {},
     "output_type": "display_data"
    },
    {
     "data": {
      "application/vnd.jupyter.widget-view+json": {
       "model_id": "1d6a98684dc444b18334921de8fdf36e",
       "version_major": 2,
       "version_minor": 0
      },
      "text/plain": [
       "HBox(children=(IntProgress(value=1, bar_style='info', max=1), HTML(value='')))"
      ]
     },
     "metadata": {},
     "output_type": "display_data"
    },
    {
     "data": {
      "application/vnd.jupyter.widget-view+json": {
       "model_id": "66c6f7297ac848ef9c18ffe0f42aebbd",
       "version_major": 2,
       "version_minor": 0
      },
      "text/plain": [
       "HBox(children=(IntProgress(value=1, bar_style='info', max=1), HTML(value='')))"
      ]
     },
     "metadata": {},
     "output_type": "display_data"
    },
    {
     "data": {
      "application/vnd.jupyter.widget-view+json": {
       "model_id": "8b7a60fc06614944bd515cd6082d9569",
       "version_major": 2,
       "version_minor": 0
      },
      "text/plain": [
       "HBox(children=(IntProgress(value=1, bar_style='info', max=1), HTML(value='')))"
      ]
     },
     "metadata": {},
     "output_type": "display_data"
    },
    {
     "data": {
      "application/vnd.jupyter.widget-view+json": {
       "model_id": "4ef1c6b9808040eeb52261027526ab0a",
       "version_major": 2,
       "version_minor": 0
      },
      "text/plain": [
       "HBox(children=(IntProgress(value=1, bar_style='info', max=1), HTML(value='')))"
      ]
     },
     "metadata": {},
     "output_type": "display_data"
    },
    {
     "data": {
      "application/vnd.jupyter.widget-view+json": {
       "model_id": "6b0b5cdf02544d1fafaf33f1ee49fb86",
       "version_major": 2,
       "version_minor": 0
      },
      "text/plain": [
       "HBox(children=(IntProgress(value=1, bar_style='info', max=1), HTML(value='')))"
      ]
     },
     "metadata": {},
     "output_type": "display_data"
    },
    {
     "data": {
      "application/vnd.jupyter.widget-view+json": {
       "model_id": "e4ea48b4c5704b9c9e078f0e52a2b1bd",
       "version_major": 2,
       "version_minor": 0
      },
      "text/plain": [
       "HBox(children=(IntProgress(value=1, bar_style='info', max=1), HTML(value='')))"
      ]
     },
     "metadata": {},
     "output_type": "display_data"
    }
   ],
   "source": [
    "model_train_loss_0 = []\n",
    "model_test_loss_0 = []\n",
    "\n",
    "for i in model_list_0:\n",
    "    df_preds_0 = create_pred_df(i, X_train_0, y_train_0, stratify_train_0)\n",
    "    training_results_0 = (df_preds_0['target'] - df_preds_0['prediction'])\n",
    "    df_preds_0 = create_pred_df(i, X_test_0, y_test_0, stratify_test_0)\n",
    "    test_results_0 = (df_preds_0['target'] - df_preds_0['prediction'])\n",
    "    model_train_loss_0.append(training_results_0.abs().mean())\n",
    "    model_test_loss_0.append(test_results_0.abs().mean())"
   ]
  },
  {
   "cell_type": "code",
   "execution_count": 138,
   "metadata": {},
   "outputs": [
    {
     "data": {
      "text/plain": [
       "(0, 0.7467923726699689)"
      ]
     },
     "execution_count": 138,
     "metadata": {},
     "output_type": "execute_result"
    },
    {
     "data": {
      "image/png": "[encoded data removed]",
      "text/plain": [
       "<Figure size 432x288 with 1 Axes>"
      ]
     },
     "metadata": {
      "needs_background": "light"
     },
     "output_type": "display_data"
    }
   ],
   "source": [
    "fig = plt.figure()\n",
    "ax = sns.lineplot(x=[3,5,7,9], y=model_train_loss_0, sort=False)\n",
    "ax = sns.lineplot(x=[3,5,7,9], y=model_test_loss_0, sort=False)\n",
    "ax.set_ylim(0,max(model_train_loss_0))\n",
    "\n",
    "# Offline Model Performance"
   ]
  },
  {
   "cell_type": "code",
   "execution_count": 195,
   "metadata": {},
   "outputs": [
    {
     "data": {
      "application/vnd.jupyter.widget-view+json": {
       "model_id": "e8ac8ffcc70849639c69b9bb20801960",
       "version_major": 2,
       "version_minor": 0
      },
      "text/plain": [
       "HBox(children=(IntProgress(value=1, bar_style='info', max=1), HTML(value='')))"
      ]
     },
     "metadata": {},
     "output_type": "display_data"
    },
    {
     "data": {
      "application/vnd.jupyter.widget-view+json": {
       "model_id": "a6389250bc3747e08ff291901a1500b0",
       "version_major": 2,
       "version_minor": 0
      },
      "text/plain": [
       "HBox(children=(IntProgress(value=1, bar_style='info', max=1), HTML(value='')))"
      ]
     },
     "metadata": {},
     "output_type": "display_data"
    },
    {
     "data": {
      "application/vnd.jupyter.widget-view+json": {
       "model_id": "8ec844b5467547c8a281d7e53875aa2c",
       "version_major": 2,
       "version_minor": 0
      },
      "text/plain": [
       "HBox(children=(IntProgress(value=1, bar_style='info', max=1), HTML(value='')))"
      ]
     },
     "metadata": {},
     "output_type": "display_data"
    },
    {
     "data": {
      "application/vnd.jupyter.widget-view+json": {
       "model_id": "808dd24b22c64b7495375f528b137d11",
       "version_major": 2,
       "version_minor": 0
      },
      "text/plain": [
       "HBox(children=(IntProgress(value=1, bar_style='info', max=1), HTML(value='')))"
      ]
     },
     "metadata": {},
     "output_type": "display_data"
    },
    {
     "data": {
      "application/vnd.jupyter.widget-view+json": {
       "model_id": "ae58a2dd963e448db1e6ee06dcb2dcb2",
       "version_major": 2,
       "version_minor": 0
      },
      "text/plain": [
       "HBox(children=(IntProgress(value=1, bar_style='info', max=1), HTML(value='')))"
      ]
     },
     "metadata": {},
     "output_type": "display_data"
    },
    {
     "data": {
      "application/vnd.jupyter.widget-view+json": {
       "model_id": "a0c0cd52aec14cb0814e6c623cbedba5",
       "version_major": 2,
       "version_minor": 0
      },
      "text/plain": [
       "HBox(children=(IntProgress(value=1, bar_style='info', max=1), HTML(value='')))"
      ]
     },
     "metadata": {},
     "output_type": "display_data"
    },
    {
     "data": {
      "application/vnd.jupyter.widget-view+json": {
       "model_id": "f5959baefc06414eba10add58426fcc1",
       "version_major": 2,
       "version_minor": 0
      },
      "text/plain": [
       "HBox(children=(IntProgress(value=1, bar_style='info', max=1), HTML(value='')))"
      ]
     },
     "metadata": {},
     "output_type": "display_data"
    },
    {
     "data": {
      "application/vnd.jupyter.widget-view+json": {
       "model_id": "0844482346d940e3afcaa0dc658c4b22",
       "version_major": 2,
       "version_minor": 0
      },
      "text/plain": [
       "HBox(children=(IntProgress(value=1, bar_style='info', max=1), HTML(value='')))"
      ]
     },
     "metadata": {},
     "output_type": "display_data"
    },
    {
     "data": {
      "application/vnd.jupyter.widget-view+json": {
       "model_id": "ab7d9091e24c40949e7dedd521dffed6",
       "version_major": 2,
       "version_minor": 0
      },
      "text/plain": [
       "HBox(children=(IntProgress(value=1, bar_style='info', max=1), HTML(value='')))"
      ]
     },
     "metadata": {},
     "output_type": "display_data"
    },
    {
     "data": {
      "application/vnd.jupyter.widget-view+json": {
       "model_id": "fcaa4cbb279c4a9b99087225a72637df",
       "version_major": 2,
       "version_minor": 0
      },
      "text/plain": [
       "HBox(children=(IntProgress(value=1, bar_style='info', max=1), HTML(value='')))"
      ]
     },
     "metadata": {},
     "output_type": "display_data"
    }
   ],
   "source": [
    "model_train_loss_1 = []\n",
    "model_test_loss_1 = []\n",
    "\n",
    "for i in model_list_1:\n",
    "    df_preds_1 = create_pred_df(i, X_train_1, y_train_1, stratify_train_1)\n",
    "    training_results_1 = (df_preds_1['target'] - df_preds_1['prediction'])\n",
    "    df_preds_1 = create_pred_df(i, X_test_1, y_test_1, stratify_test_1)\n",
    "    test_results_1 = (df_preds_1['target'] - df_preds_1['prediction'])\n",
    "    model_train_loss_1.append(training_results_1.abs().mean())\n",
    "    model_test_loss_1.append(test_results_1.abs().mean())"
   ]
  },
  {
   "cell_type": "code",
   "execution_count": 196,
   "metadata": {},
   "outputs": [
    {
     "data": {
      "text/plain": [
       "(0, 0.7113243517323731)"
      ]
     },
     "execution_count": 196,
     "metadata": {},
     "output_type": "execute_result"
    },
    {
     "data": {
      "image/png": "[encoded data removed]",
      "text/plain": [
       "<Figure size 432x288 with 1 Axes>"
      ]
     },
     "metadata": {
      "needs_background": "light"
     },
     "output_type": "display_data"
    }
   ],
   "source": [
    "fig = plt.figure()\n",
    "ax = sns.lineplot(x=[3,5,7,9,13], y=model_train_loss_1, sort=False)\n",
    "ax = sns.lineplot(x=[3,5,7,9,13], y=model_test_loss_1, sort=False)\n",
    "ax.set_ylim(0,max(model_train_loss_1))\n",
    "\n",
    "# Offline Model Performance"
   ]
  },
  {
   "cell_type": "markdown",
   "metadata": {},
   "source": [
    "# Offline Model Performance"
   ]
  },
  {
   "cell_type": "markdown",
   "metadata": {},
   "source": [
    "## Head pose to road after deactivation"
   ]
  },
  {
   "cell_type": "code",
   "execution_count": 42,
   "metadata": {},
   "outputs": [],
   "source": [
    "model_offline_0 = model_list_0[0]"
   ]
  },
  {
   "cell_type": "code",
   "execution_count": 68,
   "metadata": {},
   "outputs": [
    {
     "data": {
      "application/vnd.jupyter.widget-view+json": {
       "model_id": "ca003c2c1cb94ad19a789a772b86eb98",
       "version_major": 2,
       "version_minor": 0
      },
      "text/plain": [
       "HBox(children=(FloatProgress(value=1.0, bar_style='info', max=1.0), HTML(value='')))"
      ]
     },
     "metadata": {},
     "output_type": "display_data"
    }
   ],
   "source": [
    "df_offline_train_0 = create_pred_df(model_offline_0, X_train_0, y_train_0, stratify_train_0)"
   ]
  },
  {
   "cell_type": "code",
   "execution_count": 69,
   "metadata": {
    "scrolled": true
   },
   "outputs": [
    {
     "name": "stdout",
     "output_type": "stream",
     "text": [
      "0.23933542925836007 0.20427725465321386\n"
     ]
    }
   ],
   "source": [
    "results_offline = (df_offline_train_0['target'] - df_offline_train_0['prediction'])\n",
    "print(results_offline.abs().mean(), results_offline.abs().std())"
   ]
  },
  {
   "cell_type": "code",
   "execution_count": 70,
   "metadata": {},
   "outputs": [
    {
     "data": {
      "application/vnd.jupyter.widget-view+json": {
       "model_id": "5f34c21e17be4d4e8cb9e96518b5c6b5",
       "version_major": 2,
       "version_minor": 0
      },
      "text/plain": [
       "HBox(children=(FloatProgress(value=1.0, bar_style='info', max=1.0), HTML(value='')))"
      ]
     },
     "metadata": {},
     "output_type": "display_data"
    }
   ],
   "source": [
    "df_offline_test_0 = create_pred_df(model_offline_0, X_test_0, y_test_0, stratify_test_0)"
   ]
  },
  {
   "cell_type": "code",
   "execution_count": 71,
   "metadata": {},
   "outputs": [
    {
     "name": "stdout",
     "output_type": "stream",
     "text": [
      "0.23079901019476476 0.1954250288947913\n"
     ]
    }
   ],
   "source": [
    "results_offline_test = (df_offline_test_0['target'] - df_offline_test_0['prediction'])\n",
    "print(results_offline_test.abs().mean(), results_offline_test.abs().std())"
   ]
  },
  {
   "cell_type": "code",
   "execution_count": 61,
   "metadata": {},
   "outputs": [],
   "source": [
    "pdf = PdfPages(\"pred_results_offline_0.pdf\")\n",
    "\n",
    "counter = 0\n",
    "\n",
    "for pid in df_offline_test_0['PID'].unique():\n",
    "    df_pid = df_offline_test_0.loc[df_offline_test_0['PID'] == pid]\n",
    "    for ts_index in df_pid['ts_num'].unique():\n",
    "        fig = plt.figure()\n",
    "        ax = sns.lineplot(x='target', y='prediction', data = df_pid.loc[df_pid['ts_num'] == ts_index], sort=False, markers=True, dashes=False)\n",
    "        ax.set_xlim(df_pid.loc[df_pid['ts_num'] == ts_index]['target'].max(), 0)\n",
    "        ax.set_ylim(bottom=0)\n",
    "        ax.set_title(str(pid) + str(ts_index))\n",
    "        \n",
    "        ax = sns.lineplot(x='target', y='x', data = df_pid.loc[df_pid['ts_num'] == ts_index], sort=False, markers=True, dashes=False)\n",
    "        \n",
    "        pdf.savefig( fig )\n",
    "        plt.close()\n",
    "        \n",
    "        counter += 1\n",
    "\n",
    "pdf.close()"
   ]
  },
  {
   "cell_type": "markdown",
   "metadata": {},
   "source": [
    "## Head pose to road before deactivation"
   ]
  },
  {
   "cell_type": "code",
   "execution_count": 12,
   "metadata": {},
   "outputs": [],
   "source": [
    "model_offline_1 = model_list_1[1]"
   ]
  },
  {
   "cell_type": "code",
   "execution_count": 13,
   "metadata": {},
   "outputs": [
    {
     "data": {
      "application/vnd.jupyter.widget-view+json": {
       "model_id": "9b632a35731f4834803be4833a7a0aec",
       "version_major": 2,
       "version_minor": 0
      },
      "text/plain": [
       "HBox(children=(FloatProgress(value=1.0, bar_style='info', max=1.0), HTML(value='')))"
      ]
     },
     "metadata": {},
     "output_type": "display_data"
    }
   ],
   "source": [
    "df_offline_train_1 = create_pred_df(model_offline_1, X_train_1, y_train_1, stratify_train_1)"
   ]
  },
  {
   "cell_type": "code",
   "execution_count": 14,
   "metadata": {},
   "outputs": [
    {
     "name": "stdout",
     "output_type": "stream",
     "text": [
      "0.3882715179441476 0.3617707724973076\n"
     ]
    }
   ],
   "source": [
    "results_offline = (df_offline_train_1['target'] - df_offline_train_1['prediction'])\n",
    "print(results_offline.abs().mean(), results_offline.abs().std())"
   ]
  },
  {
   "cell_type": "code",
   "execution_count": 15,
   "metadata": {},
   "outputs": [
    {
     "data": {
      "application/vnd.jupyter.widget-view+json": {
       "model_id": "0694dd2959a847a6ae7a4454e3ba77a7",
       "version_major": 2,
       "version_minor": 0
      },
      "text/plain": [
       "HBox(children=(FloatProgress(value=1.0, bar_style='info', max=1.0), HTML(value='')))"
      ]
     },
     "metadata": {},
     "output_type": "display_data"
    }
   ],
   "source": [
    "df_offline_test_1 = create_pred_df(model_offline_1, X_test_1, y_test_1, stratify_test_1)"
   ]
  },
  {
   "cell_type": "code",
   "execution_count": 16,
   "metadata": {},
   "outputs": [
    {
     "name": "stdout",
     "output_type": "stream",
     "text": [
      "0.36032045192645057 0.35224756653663\n"
     ]
    }
   ],
   "source": [
    "results_offline_test = (df_offline_test_1['target'] - df_offline_test_1['prediction'])\n",
    "print(results_offline_test.abs().mean(), results_offline_test.abs().std())"
   ]
  },
  {
   "cell_type": "code",
   "execution_count": 17,
   "metadata": {},
   "outputs": [],
   "source": [
    "pdf = PdfPages(\"pred_results_offline_1.pdf\")\n",
    "\n",
    "counter = 0\n",
    "\n",
    "for pid in df_offline_test_1['PID'].unique():\n",
    "    df_pid = df_offline_test_1.loc[df_offline_test_1['PID'] == pid]\n",
    "    for ts_index in df_pid['ts_num'].unique():\n",
    "        fig = plt.figure()\n",
    "        ax = sns.lineplot(x='target', y='prediction', data = df_pid.loc[df_pid['ts_num'] == ts_index], sort=False, markers=True, dashes=False)\n",
    "        ax.set_xlim(df_pid.loc[df_pid['ts_num'] == ts_index]['target'].max(), 0)\n",
    "        ax.set_ylim(bottom=0)\n",
    "        ax.set_title(str(pid) + str(ts_index))\n",
    "        \n",
    "        ax = sns.lineplot(x='target', y='x', data = df_pid.loc[df_pid['ts_num'] == ts_index], sort=False, markers=True, dashes=False)\n",
    "        \n",
    "        pdf.savefig( fig )\n",
    "        plt.close()\n",
    "        \n",
    "        counter += 1\n",
    "\n",
    "pdf.close()"
   ]
  },
  {
   "cell_type": "markdown",
   "metadata": {},
   "source": [
    "# Online Models"
   ]
  },
  {
   "cell_type": "code",
   "execution_count": 301,
   "metadata": {},
   "outputs": [],
   "source": [
    "with open('X_train_rate.pk', 'rb') as f:\n",
    "    X_train = pk.load(f)\n",
    "\n",
    "with open('y_train_rate.pk', 'rb') as f:\n",
    "    y_train = pk.load(f)\n",
    "    \n",
    "with open('stratify_train_rate.pk', 'rb') as f:\n",
    "    stratify_train = pk.load(f)\n",
    "\n",
    "with open('X_test_rate.pk', 'rb') as f:\n",
    "    X_test = pk.load(f)\n",
    "\n",
    "with open('y_test_rate.pk', 'rb') as f:\n",
    "    y_test = pk.load(f)\n",
    "    \n",
    "with open('stratify_test_rate.pk', 'rb') as f:\n",
    "    stratify_test = pk.load(f)"
   ]
  },
  {
   "cell_type": "code",
   "execution_count": 302,
   "metadata": {},
   "outputs": [],
   "source": [
    "pid_range = ['PID01','PID02','PID03','PID04','PID05',\n",
    "                'PID06','PID07','PID08','PID09','PID10',\n",
    "                'PID11','PID12','PID13','PID14','PID15',\n",
    "                'PID16','PID17','PID18','PID19','PID20',\n",
    "                'PID21','PID22','PID23','PID24','PID25',\n",
    "                'PID26','PID27','PID28','PID29','PID30',\n",
    "                'PID31','PID32','PID33','PID34']"
   ]
  },
  {
   "cell_type": "code",
   "execution_count": 303,
   "metadata": {},
   "outputs": [],
   "source": [
    "pid_train_list = []\n",
    "gap_train_list = []\n",
    "for i in stratify_train:\n",
    "    pid_train_list.append(i.split('_')[0])\n",
    "    gap_train_list.append(i.split('_')[1])\n",
    "    \n",
    "pid_test_list = []\n",
    "gap_test_list = []\n",
    "for i in stratify_test:\n",
    "    pid_test_list.append(i.split('_')[0])\n",
    "    gap_test_list.append(i.split('_')[1])"
   ]
  },
  {
   "cell_type": "code",
   "execution_count": 373,
   "metadata": {},
   "outputs": [
    {
     "data": {
      "application/vnd.jupyter.widget-view+json": {
       "model_id": "72df538f805247158b2c85db66b73d00",
       "version_major": 2,
       "version_minor": 0
      },
      "text/plain": [
       "HBox(children=(IntProgress(value=1, bar_style='info', max=1), HTML(value='')))"
      ]
     },
     "metadata": {},
     "output_type": "display_data"
    },
    {
     "data": {
      "application/vnd.jupyter.widget-view+json": {
       "model_id": "4866dbf7a9bd4d39af88281ff81bb95f",
       "version_major": 2,
       "version_minor": 0
      },
      "text/plain": [
       "HBox(children=(IntProgress(value=1, bar_style='info', max=1), HTML(value='')))"
      ]
     },
     "metadata": {},
     "output_type": "display_data"
    },
    {
     "data": {
      "application/vnd.jupyter.widget-view+json": {
       "model_id": "7e0c6f9dad0e4a1989327ba954dacb1c",
       "version_major": 2,
       "version_minor": 0
      },
      "text/plain": [
       "HBox(children=(IntProgress(value=1, bar_style='info', max=1), HTML(value='')))"
      ]
     },
     "metadata": {},
     "output_type": "display_data"
    },
    {
     "data": {
      "application/vnd.jupyter.widget-view+json": {
       "model_id": "d1a6400109db463bae22d64ffe1915fc",
       "version_major": 2,
       "version_minor": 0
      },
      "text/plain": [
       "HBox(children=(IntProgress(value=1, bar_style='info', max=1), HTML(value='')))"
      ]
     },
     "metadata": {},
     "output_type": "display_data"
    },
    {
     "data": {
      "application/vnd.jupyter.widget-view+json": {
       "model_id": "18c1a72888f944919800e881e0f6145d",
       "version_major": 2,
       "version_minor": 0
      },
      "text/plain": [
       "HBox(children=(IntProgress(value=1, bar_style='info', max=1), HTML(value='')))"
      ]
     },
     "metadata": {},
     "output_type": "display_data"
    },
    {
     "data": {
      "application/vnd.jupyter.widget-view+json": {
       "model_id": "9ae5d73595a14069857e770335745a66",
       "version_major": 2,
       "version_minor": 0
      },
      "text/plain": [
       "HBox(children=(IntProgress(value=1, bar_style='info', max=1), HTML(value='')))"
      ]
     },
     "metadata": {},
     "output_type": "display_data"
    },
    {
     "data": {
      "application/vnd.jupyter.widget-view+json": {
       "model_id": "52641893bfb34ac2939c729b1b68fe6a",
       "version_major": 2,
       "version_minor": 0
      },
      "text/plain": [
       "HBox(children=(IntProgress(value=1, bar_style='info', max=1), HTML(value='')))"
      ]
     },
     "metadata": {},
     "output_type": "display_data"
    },
    {
     "name": "stdout",
     "output_type": "stream",
     "text": [
      "\n",
      "\n"
     ]
    },
    {
     "data": {
      "application/vnd.jupyter.widget-view+json": {
       "model_id": "0c9c54eb528c4329897012534d576e0f",
       "version_major": 2,
       "version_minor": 0
      },
      "text/plain": [
       "HBox(children=(IntProgress(value=1, bar_style='info', max=1), HTML(value='')))"
      ]
     },
     "metadata": {},
     "output_type": "display_data"
    },
    {
     "data": {
      "application/vnd.jupyter.widget-view+json": {
       "model_id": "d718dae901aa47faacc211fad9b537d5",
       "version_major": 2,
       "version_minor": 0
      },
      "text/plain": [
       "HBox(children=(IntProgress(value=1, bar_style='info', max=1), HTML(value='')))"
      ]
     },
     "metadata": {},
     "output_type": "display_data"
    },
    {
     "data": {
      "application/vnd.jupyter.widget-view+json": {
       "model_id": "8175489184f840f2a261d6ff9b1d4a34",
       "version_major": 2,
       "version_minor": 0
      },
      "text/plain": [
       "HBox(children=(IntProgress(value=1, bar_style='info', max=1), HTML(value='')))"
      ]
     },
     "metadata": {},
     "output_type": "display_data"
    },
    {
     "name": "stdout",
     "output_type": "stream",
     "text": [
      "\n"
     ]
    },
    {
     "data": {
      "application/vnd.jupyter.widget-view+json": {
       "model_id": "6f5ecd8efc9f43609c3223a98858ba07",
       "version_major": 2,
       "version_minor": 0
      },
      "text/plain": [
       "HBox(children=(IntProgress(value=1, bar_style='info', max=1), HTML(value='')))"
      ]
     },
     "metadata": {},
     "output_type": "display_data"
    },
    {
     "data": {
      "application/vnd.jupyter.widget-view+json": {
       "model_id": "3389023788504e55913e846481ba5653",
       "version_major": 2,
       "version_minor": 0
      },
      "text/plain": [
       "HBox(children=(IntProgress(value=1, bar_style='info', max=1), HTML(value='')))"
      ]
     },
     "metadata": {},
     "output_type": "display_data"
    },
    {
     "data": {
      "application/vnd.jupyter.widget-view+json": {
       "model_id": "3f813a973a1345958938908a5bde2b4e",
       "version_major": 2,
       "version_minor": 0
      },
      "text/plain": [
       "HBox(children=(IntProgress(value=1, bar_style='info', max=1), HTML(value='')))"
      ]
     },
     "metadata": {},
     "output_type": "display_data"
    },
    {
     "data": {
      "application/vnd.jupyter.widget-view+json": {
       "model_id": "2f4446c817d44b93a8dbc82448d3f60a",
       "version_major": 2,
       "version_minor": 0
      },
      "text/plain": [
       "HBox(children=(IntProgress(value=1, bar_style='info', max=1), HTML(value='')))"
      ]
     },
     "metadata": {},
     "output_type": "display_data"
    },
    {
     "name": "stdout",
     "output_type": "stream",
     "text": [
      "\n",
      "\n",
      "\n"
     ]
    },
    {
     "data": {
      "application/vnd.jupyter.widget-view+json": {
       "model_id": "9a90c72c84324d6a97dd30c771361c03",
       "version_major": 2,
       "version_minor": 0
      },
      "text/plain": [
       "HBox(children=(IntProgress(value=1, bar_style='info', max=1), HTML(value='')))"
      ]
     },
     "metadata": {},
     "output_type": "display_data"
    },
    {
     "data": {
      "application/vnd.jupyter.widget-view+json": {
       "model_id": "586ac874e5c04985bdf412f4f4512b6a",
       "version_major": 2,
       "version_minor": 0
      },
      "text/plain": [
       "HBox(children=(IntProgress(value=1, bar_style='info', max=1), HTML(value='')))"
      ]
     },
     "metadata": {},
     "output_type": "display_data"
    },
    {
     "data": {
      "application/vnd.jupyter.widget-view+json": {
       "model_id": "ce70e4ccc90f4885a21dc9e2e6c0d093",
       "version_major": 2,
       "version_minor": 0
      },
      "text/plain": [
       "HBox(children=(IntProgress(value=1, bar_style='info', max=1), HTML(value='')))"
      ]
     },
     "metadata": {},
     "output_type": "display_data"
    },
    {
     "name": "stdout",
     "output_type": "stream",
     "text": [
      "\n",
      "\n"
     ]
    },
    {
     "data": {
      "application/vnd.jupyter.widget-view+json": {
       "model_id": "3ee8275d82064424885565ccf9a1424c",
       "version_major": 2,
       "version_minor": 0
      },
      "text/plain": [
       "HBox(children=(IntProgress(value=1, bar_style='info', max=1), HTML(value='')))"
      ]
     },
     "metadata": {},
     "output_type": "display_data"
    },
    {
     "data": {
      "application/vnd.jupyter.widget-view+json": {
       "model_id": "d7dfd42a50874da39fe3e5bfb59bdeea",
       "version_major": 2,
       "version_minor": 0
      },
      "text/plain": [
       "HBox(children=(IntProgress(value=1, bar_style='info', max=1), HTML(value='')))"
      ]
     },
     "metadata": {},
     "output_type": "display_data"
    },
    {
     "data": {
      "application/vnd.jupyter.widget-view+json": {
       "model_id": "c13a3bba99564c179cd7f7a603954c06",
       "version_major": 2,
       "version_minor": 0
      },
      "text/plain": [
       "HBox(children=(IntProgress(value=1, bar_style='info', max=1), HTML(value='')))"
      ]
     },
     "metadata": {},
     "output_type": "display_data"
    },
    {
     "data": {
      "application/vnd.jupyter.widget-view+json": {
       "model_id": "955b7c6d9f8f4abfb09e8dd7a4930df9",
       "version_major": 2,
       "version_minor": 0
      },
      "text/plain": [
       "HBox(children=(IntProgress(value=1, bar_style='info', max=1), HTML(value='')))"
      ]
     },
     "metadata": {},
     "output_type": "display_data"
    },
    {
     "data": {
      "application/vnd.jupyter.widget-view+json": {
       "model_id": "d49ef653ed214f399670bb51cccbff62",
       "version_major": 2,
       "version_minor": 0
      },
      "text/plain": [
       "HBox(children=(IntProgress(value=1, bar_style='info', max=1), HTML(value='')))"
      ]
     },
     "metadata": {},
     "output_type": "display_data"
    },
    {
     "data": {
      "application/vnd.jupyter.widget-view+json": {
       "model_id": "3ebb1821f5624541bd5f3565ecfb8012",
       "version_major": 2,
       "version_minor": 0
      },
      "text/plain": [
       "HBox(children=(IntProgress(value=1, bar_style='info', max=1), HTML(value='')))"
      ]
     },
     "metadata": {},
     "output_type": "display_data"
    },
    {
     "data": {
      "application/vnd.jupyter.widget-view+json": {
       "model_id": "88ecd22949eb41778bf40992723f458d",
       "version_major": 2,
       "version_minor": 0
      },
      "text/plain": [
       "HBox(children=(IntProgress(value=1, bar_style='info', max=1), HTML(value='')))"
      ]
     },
     "metadata": {},
     "output_type": "display_data"
    },
    {
     "name": "stdout",
     "output_type": "stream",
     "text": [
      "\n",
      "\n",
      "\n"
     ]
    },
    {
     "data": {
      "application/vnd.jupyter.widget-view+json": {
       "model_id": "d1246a21d3584dd5a6b002e2adc5eb39",
       "version_major": 2,
       "version_minor": 0
      },
      "text/plain": [
       "HBox(children=(IntProgress(value=1, bar_style='info', max=1), HTML(value='')))"
      ]
     },
     "metadata": {},
     "output_type": "display_data"
    },
    {
     "data": {
      "application/vnd.jupyter.widget-view+json": {
       "model_id": "a00f249a702c4e22ad143e0d30a038a0",
       "version_major": 2,
       "version_minor": 0
      },
      "text/plain": [
       "HBox(children=(IntProgress(value=1, bar_style='info', max=1), HTML(value='')))"
      ]
     },
     "metadata": {},
     "output_type": "display_data"
    },
    {
     "data": {
      "application/vnd.jupyter.widget-view+json": {
       "model_id": "e2066bc5863c42eb938faf309a9fed5d",
       "version_major": 2,
       "version_minor": 0
      },
      "text/plain": [
       "HBox(children=(IntProgress(value=1, bar_style='info', max=1), HTML(value='')))"
      ]
     },
     "metadata": {},
     "output_type": "display_data"
    },
    {
     "data": {
      "application/vnd.jupyter.widget-view+json": {
       "model_id": "ab3ebb705f314f748e00b274fbfb6b4c",
       "version_major": 2,
       "version_minor": 0
      },
      "text/plain": [
       "HBox(children=(IntProgress(value=1, bar_style='info', max=1), HTML(value='')))"
      ]
     },
     "metadata": {},
     "output_type": "display_data"
    },
    {
     "name": "stdout",
     "output_type": "stream",
     "text": [
      "\n"
     ]
    },
    {
     "data": {
      "application/vnd.jupyter.widget-view+json": {
       "model_id": "a1e899f7f6334045ae0da40fe4e26b85",
       "version_major": 2,
       "version_minor": 0
      },
      "text/plain": [
       "HBox(children=(IntProgress(value=1, bar_style='info', max=1), HTML(value='')))"
      ]
     },
     "metadata": {},
     "output_type": "display_data"
    },
    {
     "data": {
      "application/vnd.jupyter.widget-view+json": {
       "model_id": "46e75a4e79414f9f969b8e5c93871aa6",
       "version_major": 2,
       "version_minor": 0
      },
      "text/plain": [
       "HBox(children=(IntProgress(value=1, bar_style='info', max=1), HTML(value='')))"
      ]
     },
     "metadata": {},
     "output_type": "display_data"
    },
    {
     "data": {
      "application/vnd.jupyter.widget-view+json": {
       "model_id": "3de2956690304b22a3cf537c8378c47b",
       "version_major": 2,
       "version_minor": 0
      },
      "text/plain": [
       "HBox(children=(IntProgress(value=1, bar_style='info', max=1), HTML(value='')))"
      ]
     },
     "metadata": {},
     "output_type": "display_data"
    },
    {
     "name": "stdout",
     "output_type": "stream",
     "text": [
      "\n",
      "\n"
     ]
    },
    {
     "data": {
      "application/vnd.jupyter.widget-view+json": {
       "model_id": "b6e3eb61f2bf477ba259c4a6b8e3f47a",
       "version_major": 2,
       "version_minor": 0
      },
      "text/plain": [
       "HBox(children=(IntProgress(value=1, bar_style='info', max=1), HTML(value='')))"
      ]
     },
     "metadata": {},
     "output_type": "display_data"
    },
    {
     "data": {
      "application/vnd.jupyter.widget-view+json": {
       "model_id": "958f08fa37b34f7889d774faec4c66c5",
       "version_major": 2,
       "version_minor": 0
      },
      "text/plain": [
       "HBox(children=(IntProgress(value=1, bar_style='info', max=1), HTML(value='')))"
      ]
     },
     "metadata": {},
     "output_type": "display_data"
    },
    {
     "data": {
      "application/vnd.jupyter.widget-view+json": {
       "model_id": "e5420bc0c1ec420a8f85929fc7ec4445",
       "version_major": 2,
       "version_minor": 0
      },
      "text/plain": [
       "HBox(children=(IntProgress(value=1, bar_style='info', max=1), HTML(value='')))"
      ]
     },
     "metadata": {},
     "output_type": "display_data"
    },
    {
     "data": {
      "application/vnd.jupyter.widget-view+json": {
       "model_id": "7d832697f1c54447a9f7d735feb49990",
       "version_major": 2,
       "version_minor": 0
      },
      "text/plain": [
       "HBox(children=(IntProgress(value=1, bar_style='info', max=1), HTML(value='')))"
      ]
     },
     "metadata": {},
     "output_type": "display_data"
    },
    {
     "name": "stdout",
     "output_type": "stream",
     "text": [
      "\n"
     ]
    },
    {
     "data": {
      "application/vnd.jupyter.widget-view+json": {
       "model_id": "3ee6acf5d20c4580a48e6e06be86eda1",
       "version_major": 2,
       "version_minor": 0
      },
      "text/plain": [
       "HBox(children=(IntProgress(value=1, bar_style='info', max=1), HTML(value='')))"
      ]
     },
     "metadata": {},
     "output_type": "display_data"
    },
    {
     "data": {
      "application/vnd.jupyter.widget-view+json": {
       "model_id": "3723be952899479384f1bd8287768b68",
       "version_major": 2,
       "version_minor": 0
      },
      "text/plain": [
       "HBox(children=(IntProgress(value=1, bar_style='info', max=1), HTML(value='')))"
      ]
     },
     "metadata": {},
     "output_type": "display_data"
    },
    {
     "data": {
      "application/vnd.jupyter.widget-view+json": {
       "model_id": "e66183f6f4a04e74bf2d4243c4e030d9",
       "version_major": 2,
       "version_minor": 0
      },
      "text/plain": [
       "HBox(children=(IntProgress(value=1, bar_style='info', max=1), HTML(value='')))"
      ]
     },
     "metadata": {},
     "output_type": "display_data"
    },
    {
     "name": "stdout",
     "output_type": "stream",
     "text": [
      "\n",
      "\n",
      "\n",
      "\n"
     ]
    },
    {
     "data": {
      "application/vnd.jupyter.widget-view+json": {
       "model_id": "d4afd605f795461ab1705ad39d8cea39",
       "version_major": 2,
       "version_minor": 0
      },
      "text/plain": [
       "HBox(children=(IntProgress(value=1, bar_style='info', max=1), HTML(value='')))"
      ]
     },
     "metadata": {},
     "output_type": "display_data"
    },
    {
     "data": {
      "application/vnd.jupyter.widget-view+json": {
       "model_id": "7f87210a361349b3bf69f775b9a1f0a3",
       "version_major": 2,
       "version_minor": 0
      },
      "text/plain": [
       "HBox(children=(IntProgress(value=1, bar_style='info', max=1), HTML(value='')))"
      ]
     },
     "metadata": {},
     "output_type": "display_data"
    },
    {
     "data": {
      "application/vnd.jupyter.widget-view+json": {
       "model_id": "9a54291411ee4df4b2873b9dd5fcc234",
       "version_major": 2,
       "version_minor": 0
      },
      "text/plain": [
       "HBox(children=(IntProgress(value=1, bar_style='info', max=1), HTML(value='')))"
      ]
     },
     "metadata": {},
     "output_type": "display_data"
    },
    {
     "data": {
      "application/vnd.jupyter.widget-view+json": {
       "model_id": "df6abe859a534f7e9de8242f28669c1c",
       "version_major": 2,
       "version_minor": 0
      },
      "text/plain": [
       "HBox(children=(IntProgress(value=1, bar_style='info', max=1), HTML(value='')))"
      ]
     },
     "metadata": {},
     "output_type": "display_data"
    },
    {
     "name": "stdout",
     "output_type": "stream",
     "text": [
      "\n"
     ]
    },
    {
     "data": {
      "application/vnd.jupyter.widget-view+json": {
       "model_id": "206399fc67e84231a392ea154126307c",
       "version_major": 2,
       "version_minor": 0
      },
      "text/plain": [
       "HBox(children=(IntProgress(value=1, bar_style='info', max=1), HTML(value='')))"
      ]
     },
     "metadata": {},
     "output_type": "display_data"
    },
    {
     "data": {
      "application/vnd.jupyter.widget-view+json": {
       "model_id": "1543f4874df549289df7c5656eed36b0",
       "version_major": 2,
       "version_minor": 0
      },
      "text/plain": [
       "HBox(children=(IntProgress(value=1, bar_style='info', max=1), HTML(value='')))"
      ]
     },
     "metadata": {},
     "output_type": "display_data"
    },
    {
     "data": {
      "application/vnd.jupyter.widget-view+json": {
       "model_id": "89d18803eb45477fbad508c91a7f98be",
       "version_major": 2,
       "version_minor": 0
      },
      "text/plain": [
       "HBox(children=(IntProgress(value=1, bar_style='info', max=1), HTML(value='')))"
      ]
     },
     "metadata": {},
     "output_type": "display_data"
    },
    {
     "data": {
      "application/vnd.jupyter.widget-view+json": {
       "model_id": "8ddb844d21c547cdb43ec4b50653bd64",
       "version_major": 2,
       "version_minor": 0
      },
      "text/plain": [
       "HBox(children=(IntProgress(value=1, bar_style='info', max=1), HTML(value='')))"
      ]
     },
     "metadata": {},
     "output_type": "display_data"
    },
    {
     "data": {
      "application/vnd.jupyter.widget-view+json": {
       "model_id": "073d9e54a9654ce9ab56373a6ab82472",
       "version_major": 2,
       "version_minor": 0
      },
      "text/plain": [
       "HBox(children=(IntProgress(value=1, bar_style='info', max=1), HTML(value='')))"
      ]
     },
     "metadata": {},
     "output_type": "display_data"
    },
    {
     "data": {
      "application/vnd.jupyter.widget-view+json": {
       "model_id": "920af964a3db4d4a994ee0b81654a03e",
       "version_major": 2,
       "version_minor": 0
      },
      "text/plain": [
       "HBox(children=(IntProgress(value=1, bar_style='info', max=1), HTML(value='')))"
      ]
     },
     "metadata": {},
     "output_type": "display_data"
    },
    {
     "data": {
      "application/vnd.jupyter.widget-view+json": {
       "model_id": "d394464919b04b2288094e88110cfb41",
       "version_major": 2,
       "version_minor": 0
      },
      "text/plain": [
       "HBox(children=(IntProgress(value=1, bar_style='info', max=1), HTML(value='')))"
      ]
     },
     "metadata": {},
     "output_type": "display_data"
    },
    {
     "name": "stdout",
     "output_type": "stream",
     "text": [
      "\n",
      "\n"
     ]
    },
    {
     "data": {
      "application/vnd.jupyter.widget-view+json": {
       "model_id": "2bf131390cf74e59979eb8a82943f2f8",
       "version_major": 2,
       "version_minor": 0
      },
      "text/plain": [
       "HBox(children=(IntProgress(value=1, bar_style='info', max=1), HTML(value='')))"
      ]
     },
     "metadata": {},
     "output_type": "display_data"
    },
    {
     "data": {
      "application/vnd.jupyter.widget-view+json": {
       "model_id": "a51ea15a735447419161c405a8ae289e",
       "version_major": 2,
       "version_minor": 0
      },
      "text/plain": [
       "HBox(children=(IntProgress(value=1, bar_style='info', max=1), HTML(value='')))"
      ]
     },
     "metadata": {},
     "output_type": "display_data"
    },
    {
     "data": {
      "application/vnd.jupyter.widget-view+json": {
       "model_id": "2fa35d21deed4f108b6df597a477694a",
       "version_major": 2,
       "version_minor": 0
      },
      "text/plain": [
       "HBox(children=(IntProgress(value=1, bar_style='info', max=1), HTML(value='')))"
      ]
     },
     "metadata": {},
     "output_type": "display_data"
    },
    {
     "data": {
      "application/vnd.jupyter.widget-view+json": {
       "model_id": "488c366daf654325935fbc382e183cc9",
       "version_major": 2,
       "version_minor": 0
      },
      "text/plain": [
       "HBox(children=(IntProgress(value=1, bar_style='info', max=1), HTML(value='')))"
      ]
     },
     "metadata": {},
     "output_type": "display_data"
    },
    {
     "data": {
      "application/vnd.jupyter.widget-view+json": {
       "model_id": "6ca75787900a4635aee61bd83d9dd472",
       "version_major": 2,
       "version_minor": 0
      },
      "text/plain": [
       "HBox(children=(IntProgress(value=1, bar_style='info', max=1), HTML(value='')))"
      ]
     },
     "metadata": {},
     "output_type": "display_data"
    },
    {
     "data": {
      "application/vnd.jupyter.widget-view+json": {
       "model_id": "cc9df591806f4f88a2a8bb4d13cfa54b",
       "version_major": 2,
       "version_minor": 0
      },
      "text/plain": [
       "HBox(children=(IntProgress(value=1, bar_style='info', max=1), HTML(value='')))"
      ]
     },
     "metadata": {},
     "output_type": "display_data"
    },
    {
     "data": {
      "application/vnd.jupyter.widget-view+json": {
       "model_id": "f128e02c9b9541cda2bb64a19b678e9b",
       "version_major": 2,
       "version_minor": 0
      },
      "text/plain": [
       "HBox(children=(IntProgress(value=1, bar_style='info', max=1), HTML(value='')))"
      ]
     },
     "metadata": {},
     "output_type": "display_data"
    },
    {
     "name": "stdout",
     "output_type": "stream",
     "text": [
      "\n",
      "\n",
      "\n"
     ]
    },
    {
     "data": {
      "application/vnd.jupyter.widget-view+json": {
       "model_id": "5f721013fc1c42e297ee5be88aa6c55b",
       "version_major": 2,
       "version_minor": 0
      },
      "text/plain": [
       "HBox(children=(IntProgress(value=1, bar_style='info', max=1), HTML(value='')))"
      ]
     },
     "metadata": {},
     "output_type": "display_data"
    },
    {
     "data": {
      "application/vnd.jupyter.widget-view+json": {
       "model_id": "99a1ffa6bbc34d89a05db21f880e4a5c",
       "version_major": 2,
       "version_minor": 0
      },
      "text/plain": [
       "HBox(children=(IntProgress(value=1, bar_style='info', max=1), HTML(value='')))"
      ]
     },
     "metadata": {},
     "output_type": "display_data"
    },
    {
     "data": {
      "application/vnd.jupyter.widget-view+json": {
       "model_id": "b64ff698e8ae439e8869fa734cdde8e7",
       "version_major": 2,
       "version_minor": 0
      },
      "text/plain": [
       "HBox(children=(IntProgress(value=1, bar_style='info', max=1), HTML(value='')))"
      ]
     },
     "metadata": {},
     "output_type": "display_data"
    },
    {
     "data": {
      "application/vnd.jupyter.widget-view+json": {
       "model_id": "ec5950c2f4e34c4e9a1b70ccc6642193",
       "version_major": 2,
       "version_minor": 0
      },
      "text/plain": [
       "HBox(children=(IntProgress(value=1, bar_style='info', max=1), HTML(value='')))"
      ]
     },
     "metadata": {},
     "output_type": "display_data"
    },
    {
     "name": "stdout",
     "output_type": "stream",
     "text": [
      "\n"
     ]
    },
    {
     "data": {
      "application/vnd.jupyter.widget-view+json": {
       "model_id": "0755b164c8c74e919e61987ae060d540",
       "version_major": 2,
       "version_minor": 0
      },
      "text/plain": [
       "HBox(children=(IntProgress(value=1, bar_style='info', max=1), HTML(value='')))"
      ]
     },
     "metadata": {},
     "output_type": "display_data"
    },
    {
     "data": {
      "application/vnd.jupyter.widget-view+json": {
       "model_id": "f6d7bb062cc34b2d913f165870396c58",
       "version_major": 2,
       "version_minor": 0
      },
      "text/plain": [
       "HBox(children=(IntProgress(value=1, bar_style='info', max=1), HTML(value='')))"
      ]
     },
     "metadata": {},
     "output_type": "display_data"
    },
    {
     "data": {
      "application/vnd.jupyter.widget-view+json": {
       "model_id": "f5b46cc16dbb42fbbc81b51ccf22ecd5",
       "version_major": 2,
       "version_minor": 0
      },
      "text/plain": [
       "HBox(children=(IntProgress(value=1, bar_style='info', max=1), HTML(value='')))"
      ]
     },
     "metadata": {},
     "output_type": "display_data"
    },
    {
     "name": "stdout",
     "output_type": "stream",
     "text": [
      "\n",
      "\n"
     ]
    },
    {
     "data": {
      "application/vnd.jupyter.widget-view+json": {
       "model_id": "ded0f96f3eae45bb9dcd1ee100b127c6",
       "version_major": 2,
       "version_minor": 0
      },
      "text/plain": [
       "HBox(children=(IntProgress(value=1, bar_style='info', max=1), HTML(value='')))"
      ]
     },
     "metadata": {},
     "output_type": "display_data"
    },
    {
     "data": {
      "application/vnd.jupyter.widget-view+json": {
       "model_id": "73d49da4ce26442fb3132d1bd88bf2ed",
       "version_major": 2,
       "version_minor": 0
      },
      "text/plain": [
       "HBox(children=(IntProgress(value=1, bar_style='info', max=1), HTML(value='')))"
      ]
     },
     "metadata": {},
     "output_type": "display_data"
    },
    {
     "data": {
      "application/vnd.jupyter.widget-view+json": {
       "model_id": "ab939c28ccdf473ab2c594c8049285bd",
       "version_major": 2,
       "version_minor": 0
      },
      "text/plain": [
       "HBox(children=(IntProgress(value=1, bar_style='info', max=1), HTML(value='')))"
      ]
     },
     "metadata": {},
     "output_type": "display_data"
    },
    {
     "data": {
      "application/vnd.jupyter.widget-view+json": {
       "model_id": "d6e1a93c40a8494b9c956ef5e92d1753",
       "version_major": 2,
       "version_minor": 0
      },
      "text/plain": [
       "HBox(children=(IntProgress(value=1, bar_style='info', max=1), HTML(value='')))"
      ]
     },
     "metadata": {},
     "output_type": "display_data"
    },
    {
     "name": "stdout",
     "output_type": "stream",
     "text": [
      "\n"
     ]
    },
    {
     "data": {
      "application/vnd.jupyter.widget-view+json": {
       "model_id": "787a1450f1cd473fb6bc50f8ba2b7957",
       "version_major": 2,
       "version_minor": 0
      },
      "text/plain": [
       "HBox(children=(IntProgress(value=1, bar_style='info', max=1), HTML(value='')))"
      ]
     },
     "metadata": {},
     "output_type": "display_data"
    }
   ],
   "source": [
    "df_online_train_list = []\n",
    "df_online_test_list = []\n",
    "\n",
    "for pid_i in pid_range:\n",
    "    with open(os.path.join('models','online', pid_i + '_1.pk'), 'rb') as f:\n",
    "        model_online = pk.load(f)\n",
    "    \n",
    "    # Train\n",
    "    X_online = [X_train[j] for j,d in enumerate(pid_train_list) if d == pid_i]\n",
    "    y_online = [y_train[j] for j,d in enumerate(pid_train_list) if d == pid_i]\n",
    "    stratify_online = [stratify_train[j] for j,d in enumerate(pid_train_list) if d == pid_i]\n",
    "    \n",
    "    df_online_train_list.append(create_pred_df(model_online, X_online, y_online, stratify_online))\n",
    "    \n",
    "    # Test\n",
    "    X_online = [X_test[j] for j,d in enumerate(pid_test_list) if d == pid_i]\n",
    "    y_online = [y_test[j] for j,d in enumerate(pid_test_list) if d == pid_i]\n",
    "    stratify_online = [stratify_test[j] for j,d in enumerate(pid_test_list) if d == pid_i]\n",
    "    \n",
    "    df_online_test_list.append(create_pred_df(model_online, X_online, y_online, stratify_online))\n",
    "    "
   ]
  },
  {
   "cell_type": "code",
   "execution_count": 43,
   "metadata": {},
   "outputs": [
    {
     "ename": "NameError",
     "evalue": "name 'df_offline_train_0' is not defined",
     "output_type": "error",
     "traceback": [
      "\u001b[1;31m---------------------------------------------------------------------------\u001b[0m",
      "\u001b[1;31mNameError\u001b[0m                                 Traceback (most recent call last)",
      "\u001b[1;32m<ipython-input-43-4d089b0844c5>\u001b[0m in \u001b[0;36m<module>\u001b[1;34m\u001b[0m\n\u001b[1;32m----> 1\u001b[1;33m \u001b[0mdf_offline_train\u001b[0m \u001b[1;33m=\u001b[0m \u001b[0mpd\u001b[0m\u001b[1;33m.\u001b[0m\u001b[0mconcat\u001b[0m\u001b[1;33m(\u001b[0m\u001b[1;33m[\u001b[0m\u001b[0mdf_offline_train_0\u001b[0m\u001b[1;33m,\u001b[0m \u001b[0mdf_offline_train_1\u001b[0m\u001b[1;33m]\u001b[0m\u001b[1;33m)\u001b[0m\u001b[1;33m\u001b[0m\u001b[1;33m\u001b[0m\u001b[0m\n\u001b[0m\u001b[0;32m      2\u001b[0m \u001b[0mdf_offline_test\u001b[0m \u001b[1;33m=\u001b[0m \u001b[0mpd\u001b[0m\u001b[1;33m.\u001b[0m\u001b[0mconcat\u001b[0m\u001b[1;33m(\u001b[0m\u001b[1;33m[\u001b[0m\u001b[0mdf_offline_test_0\u001b[0m\u001b[1;33m,\u001b[0m \u001b[0mdf_offline_test_1\u001b[0m\u001b[1;33m]\u001b[0m\u001b[1;33m)\u001b[0m\u001b[1;33m\u001b[0m\u001b[1;33m\u001b[0m\u001b[0m\n",
      "\u001b[1;31mNameError\u001b[0m: name 'df_offline_train_0' is not defined"
     ]
    }
   ],
   "source": [
    "df_offline_train = pd.concat([df_offline_train_0, df_offline_train_1])\n",
    "df_offline_test = pd.concat([df_offline_test_0, df_offline_test_1])"
   ]
  },
  {
   "cell_type": "code",
   "execution_count": 375,
   "metadata": {},
   "outputs": [
    {
     "name": "stdout",
     "output_type": "stream",
     "text": [
      "\n"
     ]
    }
   ],
   "source": [
    "column_names = ['PID','train mae offline','train se offline','train mae online','train se online',\n",
    "               'test mae offline','test se offline','test mae online','test se online']\n",
    "df_compare = []\n",
    "for i,pid_i in enumerate(pid_range):\n",
    "    row = [pid_i]\n",
    "    \n",
    "    # Train\n",
    "    df_temp = df_offline_train[df_offline_train['PID'] == pid_i]\n",
    "    results_temp = (df_temp['target'] - df_temp['prediction'])\n",
    "    \n",
    "    row.append(results_temp.abs().mean())\n",
    "    row.append(results_temp.abs().std())\n",
    "    \n",
    "    results_temp = (df_online_train_list[i]['target'] - df_online_train_list[i]['prediction'])\n",
    "    \n",
    "    row.append(results_temp.abs().mean())\n",
    "    row.append(results_temp.abs().std())\n",
    "\n",
    "    # Test\n",
    "    df_temp = df_offline_test[df_offline_test['PID'] == pid_i]\n",
    "    results_temp = (df_temp['target'] - df_temp['prediction'])\n",
    "    \n",
    "    row.append(results_temp.abs().mean())\n",
    "    row.append(results_temp.abs().std())\n",
    "    \n",
    "    results_temp = (df_online_test_list[i]['target'] - df_online_test_list[i]['prediction'])\n",
    "    \n",
    "    row.append(results_temp.abs().mean())\n",
    "    row.append(results_temp.abs().std())\n",
    "    \n",
    "    df_compare.append(row)"
   ]
  },
  {
   "cell_type": "code",
   "execution_count": 376,
   "metadata": {},
   "outputs": [],
   "source": [
    "# Create the pandas DataFrame \n",
    "df_compare = pd.DataFrame(df_compare, columns = column_names) "
   ]
  },
  {
   "cell_type": "code",
   "execution_count": 377,
   "metadata": {},
   "outputs": [
    {
     "name": "stdout",
     "output_type": "stream",
     "text": [
      "-0.08334169826359546\n",
      "-0.08940339436175629\n"
     ]
    }
   ],
   "source": [
    "print((df_compare['train mae offline'] - df_compare['train mae online']).mean())\n",
    "print((df_compare['test mae offline'] - df_compare['test mae online']).mean())"
   ]
  },
  {
   "cell_type": "markdown",
   "metadata": {},
   "source": [
    "# Other Models\n",
    "\n",
    "## Create Data Features"
   ]
  },
  {
   "cell_type": "code",
   "execution_count": 18,
   "metadata": {},
   "outputs": [],
   "source": [
    "# Load packages\n",
    "import HSMM_LtR as hsmm\n",
    "from training import hsmm_model\n",
    "\n",
    "import seaborn as sns\n",
    "from matplotlib import pyplot as plt\n",
    "from matplotlib.backends.backend_pdf import PdfPages\n",
    "\n",
    "from scipy.stats import norm\n",
    "import numpy as np\n",
    "import pickle as pk\n",
    "import random\n",
    "from sklearn.model_selection import train_test_split\n",
    "\n",
    "from operator import methodcaller\n",
    "from tqdm.notebook import tqdm\n",
    "import pandas as pd\n",
    "\n",
    "import os"
   ]
  },
  {
   "cell_type": "code",
   "execution_count": 19,
   "metadata": {},
   "outputs": [],
   "source": [
    "# Looad Data\n",
    "with open('X_train_rate_other.pk', 'rb') as f:\n",
    "    X_train_om = pk.load(f)\n",
    "\n",
    "with open('y_train_rate_other.pk', 'rb') as f:\n",
    "    y_train_om = pk.load(f)\n",
    "    \n",
    "with open('stratify_train_rate_other.pk', 'rb') as f:\n",
    "    stratify_train_om = pk.load(f)\n",
    "\n",
    "with open('X_test_rate_other.pk', 'rb') as f:\n",
    "    X_test_om = pk.load(f)\n",
    "\n",
    "with open('y_test_rate_other.pk', 'rb') as f:\n",
    "    y_test_om = pk.load(f)\n",
    "    \n",
    "with open('stratify_test_rate_other.pk', 'rb') as f:\n",
    "    stratify_test_om = pk.load(f)"
   ]
  },
  {
   "cell_type": "code",
   "execution_count": 20,
   "metadata": {},
   "outputs": [],
   "source": [
    "# Load Data 1\n",
    "with open('X_train_rate_other_0.pk', 'rb') as f:\n",
    "    X_train_om_0 = pk.load(f)\n",
    "\n",
    "with open('y_train_rate_other_0.pk', 'rb') as f:\n",
    "    y_train_om_0 = pk.load(f)\n",
    "    \n",
    "with open('stratify_train_rate_other_0.pk', 'rb') as f:\n",
    "    stratify_train_om_0 = pk.load(f)\n",
    "\n",
    "with open('X_test_rate_other_0.pk', 'rb') as f:\n",
    "    X_test_om_0 = pk.load(f)\n",
    "\n",
    "with open('y_test_rate_other_0.pk', 'rb') as f:\n",
    "    y_test_om_0 = pk.load(f)\n",
    "    \n",
    "with open('stratify_test_rate_other_0.pk', 'rb') as f:\n",
    "    stratify_test_om_0 = pk.load(f)\n",
    "    \n",
    "# Load Data 0\n",
    "with open('X_train_rate_other_1.pk', 'rb') as f:\n",
    "    X_train_om_1 = pk.load(f)\n",
    "\n",
    "with open('y_train_rate_other_1.pk', 'rb') as f:\n",
    "    y_train_om_1 = pk.load(f)\n",
    "    \n",
    "with open('stratify_train_rate_other_1.pk', 'rb') as f:\n",
    "    stratify_train_om_1 = pk.load(f)\n",
    "\n",
    "with open('X_test_rate_other_1.pk', 'rb') as f:\n",
    "    X_test_om_1 = pk.load(f)\n",
    "\n",
    "with open('y_test_rate_other_1.pk', 'rb') as f:\n",
    "    y_test_om_1 = pk.load(f)\n",
    "    \n",
    "with open('stratify_test_rate_other_1.pk', 'rb') as f:\n",
    "    stratify_test_om_1 = pk.load(f)"
   ]
  },
  {
   "cell_type": "code",
   "execution_count": 21,
   "metadata": {},
   "outputs": [],
   "source": [
    "# Create Lags single dataset\n",
    "# Step 1: Create an empty array\n",
    "X_train_numpy = np.zeros((len(X_train_om)*11,20))\n",
    "y_train_numpy = np.zeros((len(X_train_om)*11))\n",
    "\n",
    "current_row = 0\n",
    "# Step 2: Assign values by slicing\n",
    "for x_i, y_i in zip(X_train_om, y_train_om):\n",
    "    # Iterate through indices\n",
    "    end = x_i.shape[0] - 70\n",
    "    index_list = split_indices(end, num_splits = 10)\n",
    "    for i in index_list:\n",
    "        end = 20 + i\n",
    "        start = end - 20\n",
    "        X_train_numpy[current_row,:] = x_i[start:end]\n",
    "        y_train_numpy[current_row] = y_i - i/20.0\n",
    "        current_row += 1\n",
    "        \n",
    "X_test_numpy = np.zeros((len(X_test_om)*11,20))\n",
    "y_test_numpy = np.zeros((len(X_test_om)*11))\n",
    "\n",
    "current_row = 0\n",
    "# Step 2: Assign values by slicing\n",
    "for x_i, y_i in zip(X_test_om, y_test_om):\n",
    "    # Iterate through indices\n",
    "    end = x_i.shape[0] - 70\n",
    "    index_list = split_indices(end, num_splits = 10)\n",
    "    for i in index_list:\n",
    "        end = 20 + i\n",
    "        start = end - 20\n",
    "        X_test_numpy[current_row,:] = x_i[start:end]\n",
    "        y_test_numpy[current_row] = y_i - i/20.0\n",
    "        current_row += 1"
   ]
  },
  {
   "cell_type": "code",
   "execution_count": 22,
   "metadata": {},
   "outputs": [],
   "source": [
    "# Create Lags split dataset\n",
    "# Step 1: Create an empty array\n",
    "X_train_numpy_0 = np.zeros((len(X_train_om_0)*11,20))\n",
    "y_train_numpy_0 = np.zeros((len(X_train_om_0)*11))\n",
    "\n",
    "X_train_numpy_1 = np.zeros((len(X_train_om_1)*11,20))\n",
    "y_train_numpy_1 = np.zeros((len(X_train_om_1)*11))\n",
    "\n",
    "X_test_numpy_0 = np.zeros((len(X_test_om_0)*11,20))\n",
    "y_test_numpy_0 = np.zeros((len(X_test_om_0)*11))\n",
    "\n",
    "X_test_numpy_1 = np.zeros((len(X_test_om_1)*11,20))\n",
    "y_test_numpy_1 = np.zeros((len(X_test_om_1)*11))\n",
    "\n",
    "current_row = 0\n",
    "# Step 2: Assign values by slicing\n",
    "for x_i, y_i in zip(X_train_om_0, y_train_om_0):\n",
    "    # Iterate through indices\n",
    "    end = x_i.shape[0] - 70\n",
    "    index_list = split_indices(end, num_splits = 10)\n",
    "    for i in index_list:\n",
    "        end = 20 + i\n",
    "        start = end - 20\n",
    "        X_train_numpy_0[current_row,:] = x_i[start:end]\n",
    "        y_train_numpy_0[current_row] = y_i - i/20.0\n",
    "        current_row += 1\n",
    "        \n",
    "\n",
    "\n",
    "current_row = 0\n",
    "# Step 2: Assign values by slicing\n",
    "for x_i, y_i in zip(X_test_om_0, y_test_om_0):\n",
    "    # Iterate through indices\n",
    "    end = x_i.shape[0] - 70\n",
    "    index_list = split_indices(end, num_splits = 10)\n",
    "    for i in index_list:\n",
    "        end = 20 + i\n",
    "        start = end - 20\n",
    "        X_test_numpy_0[current_row,:] = x_i[start:end]\n",
    "        y_test_numpy_0[current_row] = y_i - i/20.0\n",
    "        current_row += 1\n",
    "        \n",
    "current_row = 0\n",
    "# Step 2: Assign values by slicing\n",
    "for x_i, y_i in zip(X_train_om_1, y_train_om_1):\n",
    "    # Iterate through indices\n",
    "    end = x_i.shape[0] - 70\n",
    "    index_list = split_indices(end, num_splits = 10)\n",
    "    for i in index_list:\n",
    "        end = 20 + i\n",
    "        start = end - 20\n",
    "        X_train_numpy_1[current_row,:] = x_i[start:end]\n",
    "        y_train_numpy_1[current_row] = y_i - i/20.0\n",
    "        current_row += 1\n",
    "\n",
    "current_row = 0\n",
    "# Step 2: Assign values by slicing\n",
    "for x_i, y_i in zip(X_test_om_1, y_test_om_1):\n",
    "    # Iterate through indices\n",
    "    end = x_i.shape[0] - 70\n",
    "    index_list = split_indices(end, num_splits = 10)\n",
    "    for i in index_list:\n",
    "        end = 20 + i\n",
    "        start = end - 20\n",
    "        X_test_numpy_1[current_row,:] = x_i[start:end]\n",
    "        y_test_numpy_1[current_row] = y_i - i/20.0\n",
    "        current_row += 1"
   ]
  },
  {
   "cell_type": "markdown",
   "metadata": {},
   "source": [
    "## Linear Regression"
   ]
  },
  {
   "cell_type": "code",
   "execution_count": 23,
   "metadata": {},
   "outputs": [],
   "source": [
    "from sklearn.linear_model import LinearRegression"
   ]
  },
  {
   "cell_type": "code",
   "execution_count": 24,
   "metadata": {},
   "outputs": [],
   "source": [
    "reg = LinearRegression().fit(X_train_numpy, y_train_numpy)\n",
    "reg_0 = LinearRegression().fit(X_train_numpy_0, y_train_numpy_0)\n",
    "reg_1 = LinearRegression().fit(X_train_numpy_1, y_train_numpy_1)"
   ]
  },
  {
   "cell_type": "code",
   "execution_count": 25,
   "metadata": {},
   "outputs": [
    {
     "name": "stdout",
     "output_type": "stream",
     "text": [
      "0.35369316893881125\n",
      "0.3345031230808526\n"
     ]
    }
   ],
   "source": [
    "print(np.mean(np.abs(reg.predict(X_train_numpy)-y_train_numpy)))\n",
    "print(np.mean(np.concatenate((np.abs(reg_0.predict(X_train_numpy_0)-y_train_numpy_0),np.abs(reg_1.predict(X_train_numpy_1)-y_train_numpy_1)))))"
   ]
  },
  {
   "cell_type": "code",
   "execution_count": 26,
   "metadata": {},
   "outputs": [
    {
     "name": "stdout",
     "output_type": "stream",
     "text": [
      "0.3412611330412251\n",
      "0.31241323451496195\n",
      "0.25430185579743675\n"
     ]
    }
   ],
   "source": [
    "print(np.mean(np.abs(reg.predict(X_test_numpy)-y_test_numpy)))\n",
    "print(np.mean(np.concatenate((np.abs(reg_0.predict(X_test_numpy_0)-y_test_numpy_0),np.abs(reg_1.predict(X_test_numpy_1)-y_test_numpy_1)))))\n",
    "print(np.std(np.concatenate((np.abs(reg_0.predict(X_test_numpy_0)-y_test_numpy_0),np.abs(reg_1.predict(X_test_numpy_1)-y_test_numpy_1)))))"
   ]
  },
  {
   "cell_type": "markdown",
   "metadata": {},
   "source": [
    "## Random Forest"
   ]
  },
  {
   "cell_type": "code",
   "execution_count": 27,
   "metadata": {},
   "outputs": [],
   "source": [
    "from sklearn.ensemble import RandomForestRegressor"
   ]
  },
  {
   "cell_type": "code",
   "execution_count": 28,
   "metadata": {},
   "outputs": [
    {
     "data": {
      "text/plain": [
       "RandomForestRegressor(bootstrap=True, ccp_alpha=0.0, criterion='mse',\n",
       "                      max_depth=2, max_features='auto', max_leaf_nodes=None,\n",
       "                      max_samples=None, min_impurity_decrease=0.0,\n",
       "                      min_impurity_split=None, min_samples_leaf=1,\n",
       "                      min_samples_split=2, min_weight_fraction_leaf=0.0,\n",
       "                      n_estimators=100, n_jobs=None, oob_score=False,\n",
       "                      random_state=0, verbose=0, warm_start=False)"
      ]
     },
     "execution_count": 28,
     "metadata": {},
     "output_type": "execute_result"
    }
   ],
   "source": [
    "regr = RandomForestRegressor(max_depth=2, random_state=0)\n",
    "regr.fit(X_train_numpy, y_train_numpy)\n",
    "\n",
    "regr_0 = RandomForestRegressor(max_depth=2, random_state=0)\n",
    "regr_0.fit(X_train_numpy_0, y_train_numpy_0)\n",
    "\n",
    "regr_1 = RandomForestRegressor(max_depth=2, random_state=0)\n",
    "regr_1.fit(X_train_numpy_1, y_train_numpy_1)"
   ]
  },
  {
   "cell_type": "code",
   "execution_count": 29,
   "metadata": {},
   "outputs": [
    {
     "name": "stdout",
     "output_type": "stream",
     "text": [
      "0.33969871601326884\n",
      "0.31718960481391306\n"
     ]
    }
   ],
   "source": [
    "print(np.mean(np.abs(regr.predict(X_train_numpy)-y_train_numpy)))\n",
    "print(np.mean(np.concatenate((np.abs(regr_0.predict(X_train_numpy_0)-y_train_numpy_0),np.abs(regr_1.predict(X_train_numpy_1)-y_train_numpy_1)))))\n"
   ]
  },
  {
   "cell_type": "code",
   "execution_count": 30,
   "metadata": {},
   "outputs": [
    {
     "name": "stdout",
     "output_type": "stream",
     "text": [
      "0.32674090125905086\n",
      "0.3064220247877915 0.24215273960143302\n"
     ]
    }
   ],
   "source": [
    "print(np.mean(np.abs(regr.predict(X_test_numpy)-y_test_numpy)))\n",
    "rf_test_results = np.concatenate((np.abs(regr_0.predict(X_test_numpy_0)-y_test_numpy_0),np.abs(regr_1.predict(X_test_numpy_1)-y_test_numpy_1)))\n",
    "print(np.mean(rf_test_results), np.std(rf_test_results))\n"
   ]
  },
  {
   "cell_type": "markdown",
   "metadata": {},
   "source": [
    "## XGBoost"
   ]
  },
  {
   "cell_type": "code",
   "execution_count": 107,
   "metadata": {},
   "outputs": [],
   "source": [
    "import xgboost as xgb"
   ]
  },
  {
   "cell_type": "code",
   "execution_count": 108,
   "metadata": {},
   "outputs": [
    {
     "data": {
      "text/plain": [
       "XGBRegressor(base_score=0.5, booster='gbtree', colsample_bylevel=1,\n",
       "             colsample_bynode=1, colsample_bytree=1, gamma=0, gpu_id=-1,\n",
       "             importance_type='gain', interaction_constraints='',\n",
       "             learning_rate=0.300000012, max_delta_step=0, max_depth=6,\n",
       "             min_child_weight=1, missing=nan, monotone_constraints='()',\n",
       "             n_estimators=100, n_jobs=0, num_parallel_tree=1,\n",
       "             objective='reg:squarederror', random_state=0, reg_alpha=0,\n",
       "             reg_lambda=1, scale_pos_weight=1, subsample=1, tree_method='exact',\n",
       "             validate_parameters=1, verbosity=None)"
      ]
     },
     "execution_count": 108,
     "metadata": {},
     "output_type": "execute_result"
    }
   ],
   "source": [
    "xgbr = xgb.XGBRegressor(max_depth=6) \n",
    "xgbr.fit(X_train_numpy, y_train_numpy)\n",
    "\n",
    "xgbr_0 = xgb.XGBRegressor(max_depth=6) \n",
    "xgbr_0.fit(X_train_numpy_0, y_train_numpy_0)\n",
    "\n",
    "xgbr_1 = xgb.XGBRegressor(max_depth=6) \n",
    "xgbr_1.fit(X_train_numpy_1, y_train_numpy_1)"
   ]
  },
  {
   "cell_type": "code",
   "execution_count": 109,
   "metadata": {},
   "outputs": [
    {
     "name": "stdout",
     "output_type": "stream",
     "text": [
      "0.07546477762128416\n",
      "0.02669211577343065\n",
      "0.02180854871322474\n"
     ]
    }
   ],
   "source": [
    "print(np.mean(np.abs(xgbr.predict(X_train_numpy)-y_train_numpy)))\n",
    "print(np.mean(np.abs(xgbr_0.predict(X_train_numpy_0)-y_train_numpy_0)))\n",
    "print(np.mean(np.abs(xgbr_1.predict(X_train_numpy_1)-y_train_numpy_1)))"
   ]
  },
  {
   "cell_type": "code",
   "execution_count": 110,
   "metadata": {},
   "outputs": [
    {
     "name": "stdout",
     "output_type": "stream",
     "text": [
      "0.3169533693917932\n",
      "0.2826062994815024 0.24688323395416065\n"
     ]
    }
   ],
   "source": [
    "print(np.mean(np.abs(xgbr.predict(X_test_numpy)-y_test_numpy)))\n",
    "test_xgbr_results = np.concatenate((np.abs(xgbr_0.predict(X_test_numpy_0)-y_test_numpy_0),np.abs(xgbr_1.predict(X_test_numpy_1)-y_test_numpy_1)))\n",
    "print(np.mean(test_xgbr_results), np.std(test_xgbr_results))"
   ]
  },
  {
   "cell_type": "code",
   "execution_count": 111,
   "metadata": {},
   "outputs": [],
   "source": [
    "xgbr_pred_0 = xgbr_0.predict(X_test_numpy_0)\n",
    "xgbr_pred_1 = xgbr_1.predict(X_test_numpy_1)\n"
   ]
  },
  {
   "cell_type": "code",
   "execution_count": 112,
   "metadata": {},
   "outputs": [],
   "source": [
    "pdf = PdfPages(\"pred_results_offline_xgboost_0.pdf\")\n",
    "\n",
    "for i in range(int(y_test_numpy_0.shape[0]/11)):\n",
    "    fig = plt.figure()\n",
    "    \n",
    "    ax = sns.lineplot(x=y_test_numpy_0[i*11:(i+1)*11], y=xgbr_pred_0[i*11:(i+1)*11], sort=False)\n",
    "    ax.set_xlim(np.max(y_test_numpy_0[i*11:(i+1)*11]), 0)\n",
    "    ax.set_title(i)\n",
    "    pdf.savefig( fig )\n",
    "    plt.close()\n",
    "             \n",
    "pdf.close()"
   ]
  },
  {
   "cell_type": "code",
   "execution_count": 113,
   "metadata": {},
   "outputs": [],
   "source": [
    "pdf = PdfPages(\"pred_results_offline_xgboost_1.pdf\")\n",
    "\n",
    "for i in range(int(y_test_numpy_1.shape[0]/11)):\n",
    "    fig = plt.figure()\n",
    "    \n",
    "    ax = sns.lineplot(x=y_test_numpy_1[i*11:(i+1)*11], y=xgbr_pred_1[i*11:(i+1)*11], sort=False)\n",
    "    ax.set_xlim(np.max(y_test_numpy_1[i*11:(i+1)*11]), 0)\n",
    "    ax.set_title(i)\n",
    "    pdf.savefig( fig )\n",
    "    plt.close()\n",
    "             \n",
    "pdf.close()"
   ]
  },
  {
   "cell_type": "code",
   "execution_count": 73,
   "metadata": {},
   "outputs": [],
   "source": [
    "df_offline_test = pd.concat([df_offline_test_0, df_offline_test_1])\n"
   ]
  },
  {
   "cell_type": "code",
   "execution_count": 156,
   "metadata": {},
   "outputs": [
    {
     "name": "stdout",
     "output_type": "stream",
     "text": [
      "0.2688935518805543 0.25855321591726427\n"
     ]
    }
   ],
   "source": [
    "df_hsmm_test = (df_offline_test['target']-df_offline_test['prediction']).abs()\n",
    "print(df_hsmm_test.mean(), df_hsmm_test.std())"
   ]
  },
  {
   "cell_type": "markdown",
   "metadata": {},
   "source": [
    "### Compare HSMM vs XGBoost"
   ]
  },
  {
   "cell_type": "code",
   "execution_count": 75,
   "metadata": {},
   "outputs": [],
   "source": [
    "y = np.concatenate((df_hsmm_test.values, test_xgbr_results))\n",
    "x = np.concatenate((np.repeat(np.arange(11),df_hsmm_test.shape[0]/11),np.repeat(np.arange(11), test_xgbr_results.shape[0]/11)))\n",
    "hue = ['HSMM'] * df_hsmm_test.shape[0] + ['XGBoost'] * test_xgbr_results.shape[0]"
   ]
  },
  {
   "cell_type": "code",
   "execution_count": 76,
   "metadata": {},
   "outputs": [
    {
     "data": {
      "text/plain": [
       "<matplotlib.legend.Legend at 0x219981147c8>"
      ]
     },
     "execution_count": 76,
     "metadata": {},
     "output_type": "execute_result"
    },
    {
     "data": {
      "image/png": "[encoded data removed]",
      "text/plain": [
       "<Figure size 921.6x691.2 with 1 Axes>"
      ]
     },
     "metadata": {
      "needs_background": "light"
     },
     "output_type": "display_data"
    }
   ],
   "source": [
    "fig = plt.figure(figsize=[12.8, 9.6])\n",
    "ax = sns.lineplot(x=x, y=y, hue=hue, style=hue ,sort=False)\n",
    "\n",
    "plt.xlabel('Percential [%]', fontsize=18)\n",
    "plt.ylabel('Absolute Error [s]', fontsize=18)\n",
    "\n",
    "ax.set_xticklabels([-20,0,20,40,60,80,100,120], fontdict={'fontsize':18})\n",
    "ax.set_yticklabels([\"%.2f\" % i for i in np.around(ax.get_yticks(), decimals=2)], fontdict={'fontsize':18})\n",
    "\n",
    "plt.legend(loc='upper left', fontsize=18)"
   ]
  },
  {
   "cell_type": "markdown",
   "metadata": {},
   "source": [
    "# Split Data"
   ]
  },
  {
   "cell_type": "code",
   "execution_count": 8,
   "metadata": {},
   "outputs": [],
   "source": [
    "'''\n",
    "x_train_0_new = []\n",
    "y_train_0_new = []\n",
    "stratify_train_0_new = []\n",
    "\n",
    "x_train_1_new = []\n",
    "y_train_1_new = []\n",
    "stratify_train_1_new = []\n",
    "\n",
    "x_test_0_new = []\n",
    "y_test_0_new = []\n",
    "stratify_test_0_new = []\n",
    "\n",
    "x_test_1_new = []\n",
    "y_test_1_new = []\n",
    "stratify_test_1_new = []\n",
    "\n",
    "## TODO: Move data from 1 to 0 and 0 to 1 depending on if head moves before or after TOT\n",
    "for i,x_i in enumerate(X_train_om):\n",
    "    if (np.sum(x_i[20:-39] >= .35) >= 2):\n",
    "        x_train_1_new.append(x_i)\n",
    "        y_train_1_new.append(y_train_om[i])\n",
    "        stratify_train_1_new.append(stratify_train_om[i])\n",
    "    else:\n",
    "        x_train_0_new.append(x_i)\n",
    "        y_train_0_new.append(y_train_om[i])\n",
    "        stratify_train_0_new.append(stratify_train_om[i])\n",
    "\n",
    "for i,x_i in enumerate(X_test_om):\n",
    "    if (np.sum(x_i[20:-39] >= .35) >= 2):\n",
    "        x_test_1_new.append(x_i)\n",
    "        y_test_1_new.append(y_test_om[i])\n",
    "        stratify_test_1_new.append(stratify_test_om[i])\n",
    "    else:\n",
    "        x_test_0_new.append(x_i)\n",
    "        y_test_0_new.append(y_test_om[i])\n",
    "        stratify_test_0_new.append(stratify_test_om[i])\n",
    "\n",
    "\n",
    "### Load 0 data ###\n",
    "with open('X_train_rate_other_0.pk', 'wb') as f:\n",
    "    pk.dump(x_train_0_new,f)\n",
    "\n",
    "with open('y_train_rate_other_0.pk', 'wb') as f:\n",
    "    pk.dump(y_train_0_new,f)\n",
    "    \n",
    "with open('stratify_train_rate_other_0.pk', 'wb') as f:\n",
    "    pk.dump(stratify_train_0_new,f)\n",
    "\n",
    "with open('X_test_rate_other_0.pk', 'wb') as f:\n",
    "    pk.dump(x_test_0_new,f)\n",
    "\n",
    "with open('y_test_rate_other_0.pk', 'wb') as f:\n",
    "    pk.dump(y_test_0_new,f)\n",
    "    \n",
    "with open('stratify_test_rate_other_0.pk', 'wb') as f:\n",
    "    pk.dump(stratify_test_0_new,f)\n",
    "\n",
    "### Load 1 data ###\n",
    "with open('X_train_rate_other_1.pk', 'wb') as f:\n",
    "    pk.dump(x_train_1_new, f)\n",
    "\n",
    "with open('y_train_rate_other_1.pk', 'wb') as f:\n",
    "    pk.dump(y_train_1_new, f)\n",
    "    \n",
    "with open('stratify_train_rate_other_1.pk', 'wb') as f:\n",
    "    pk.dump(stratify_train_1_new, f)\n",
    "\n",
    "with open('X_test_rate_other_1.pk', 'wb') as f:\n",
    "    pk.dump(x_test_1_new, f)\n",
    "\n",
    "with open('y_test_rate_other_1.pk', 'wb') as f:\n",
    "    pk.dump(y_test_1_new, f)\n",
    "    \n",
    "with open('stratify_test_rate_other_1.pk', 'wb') as f:\n",
    "    pk.dump(stratify_test_1_new, f)\n",
    "'''"
   ]
  },
  {
   "cell_type": "markdown",
   "metadata": {},
   "source": [
    "# Plots"
   ]
  },
  {
   "cell_type": "markdown",
   "metadata": {},
   "source": [
    "## XGBoost and HSMM time series examples"
   ]
  },
  {
   "cell_type": "code",
   "execution_count": 152,
   "metadata": {},
   "outputs": [],
   "source": [
    "# XGBoost 1 = index 20, HSMM 1 = PID14 TS2\n",
    "# XGBoost 0 = index 2, HSMM 0 = index 6\n",
    "\n",
    "ts_1_1 = df_offline_test_1[np.all([df_offline_test_1['PID']=='PID14', df_offline_test_1['ts_num']==2], axis=0)]\n",
    "ts_1_2 =xgbr_pred_1[20*11:21*11]\n",
    "ts_2_1 = df_offline_test_0[np.all([df_offline_test_0['PID']=='PID14', df_offline_test_0['ts_num']==2], axis=0)]\n",
    "ts_2_2 = xgbr_pred_0[13*11:14*11]"
   ]
  },
  {
   "cell_type": "code",
   "execution_count": 153,
   "metadata": {},
   "outputs": [
    {
     "data": {
      "image/png": "[encoded data removed]",
      "text/plain": [
       "<Figure size 921.6x691.2 with 4 Axes>"
      ]
     },
     "metadata": {
      "needs_background": "light"
     },
     "output_type": "display_data"
    }
   ],
   "source": [
    "import matplotlib.ticker as plticker\n",
    "f, ax = plt.subplots(2, 2, sharey=True, figsize = [12.8, 9.6])\n",
    "loc = plticker.MultipleLocator(base=0.25)\n",
    "ts_1_1 = df_offline_test_1[np.all([df_offline_test_1['PID']=='PID08', df_offline_test_1['ts_num']==1], axis=0)]\n",
    "\n",
    "sns.lineplot(x=ts_1_1['target'].values, y=xgbr_pred_1[13*11:14*11], size=[1]*11, sizes=(3,3), hue=['red']*11, palette='inferno', ax=ax[0,0])\n",
    "ax[0,0].set_xlim(np.max(ts_1_1['target'].values), 0)\n",
    "ax[0,0].get_legend().remove()\n",
    "ax[0,0].yaxis.set_major_locator(loc)\n",
    "\n",
    "sns.lineplot(x=ts_1_1['target'].values, y=ts_1_1['prediction'].values, size=[1]*11, sizes=(3,3), ax=ax[0,1])\n",
    "ax[0,1].set_xlim(np.max(ts_1_1['target'].values), 0)\n",
    "ax[0,1].get_legend().remove()\n",
    "\n",
    "ts_2_2 = xgbr_pred_0[7*11:8*11]\n",
    "ts_2_1 = df_offline_test_0[np.all([df_offline_test_0['PID']=='PID34', df_offline_test_0['ts_num']==2], axis=0)]\n",
    "\n",
    "sns.lineplot(x=ts_2_1['target'].values, y=ts_2_2, size=[1]*11, sizes=(3,3), hue=['red']*11, palette='inferno',ax=ax[1,0])\n",
    "ax[1,0].set_xlim(np.max(ts_2_1['target'].values), 0)\n",
    "ax[1,0].get_legend().remove()\n",
    "\n",
    "sns.lineplot(x=ts_2_1['target'].values, y=ts_2_1['prediction'].values, size=[1]*11, sizes=(3,3), ax=ax[1,1])\n",
    "ax[1,1].set_xlim(np.max(ts_2_1['target'].values), 0)\n",
    "ax[1,1].get_legend().remove()\n",
    "\n",
    "ax[0,0].set_ylabel('Predicted Time (s)', fontsize=18)\n",
    "ax[0,0].set_title('XGBoost', fontsize=18)\n",
    "ax[1,0].set_ylabel('Predicted Time (s)', fontsize=18)\n",
    "ax[0,1].set_title('HSMM', fontsize=18)\n",
    "\n",
    "ax[1,0].set_xlabel('Remaining TOT (s)', fontsize=18)\n",
    "ax[1,1].set_xlabel('Remaining TOT (s)', fontsize=18)\n",
    "\n",
    "plt.tight_layout()\n",
    "plt.show()"
   ]
  },
  {
   "cell_type": "code",
   "execution_count": 155,
   "metadata": {},
   "outputs": [
    {
     "data": {
      "text/plain": [
       "array([1.353, 1.253, 1.103, 0.953, 0.803, 0.653, 0.503, 0.353, 0.203,\n",
       "       0.053, 0.   ])"
      ]
     },
     "execution_count": 155,
     "metadata": {},
     "output_type": "execute_result"
    }
   ],
   "source": [
    "ts_2_1['target'].values"
   ]
  },
  {
   "cell_type": "code",
   "execution_count": null,
   "metadata": {},
   "outputs": [],
   "source": []
  }
 ],
 "metadata": {
  "kernelspec": {
   "display_name": "Python 3",
   "language": "python",
   "name": "python3"
  },
  "language_info": {
   "codemirror_mode": {
    "name": "ipython",
    "version": 3
   },
   "file_extension": ".py",
   "mimetype": "text/x-python",
   "name": "python",
   "nbconvert_exporter": "python",
   "pygments_lexer": "ipython3",
   "version": "3.7.6"
  }
 },
 "nbformat": 4,
 "nbformat_minor": 2
}
